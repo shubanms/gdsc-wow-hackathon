{
  "cells": [
    {
      "cell_type": "code",
      "execution_count": 1499,
      "metadata": {
        "id": "__bqIbeRFofW"
      },
      "outputs": [],
      "source": [
        "import pandas as pd\n",
        "import io\n",
        "from sklearn.ensemble import RandomForestRegressor\n",
        "import numpy as np\n",
        "from sklearn.decomposition import PCA"
      ]
    },
    {
      "cell_type": "code",
      "execution_count": 1500,
      "metadata": {
        "colab": {
          "base_uri": "https://localhost:8080/"
        },
        "id": "2v5GshKzMDyH",
        "outputId": "2f2a6861-a445-4e9f-f90f-be80821ed742"
      },
      "outputs": [
        {
          "name": "stderr",
          "output_type": "stream",
          "text": [
            "C:\\Users\\User\\AppData\\Local\\Temp\\ipykernel_2196\\251105449.py:1: DtypeWarning: Columns (16,17,18,22,23,24,25,26,27,28,29,30,31,32,33,76) have mixed types. Specify dtype option on import or set low_memory=False.\n",
            "  all_data=pd.read_csv(\"Mortality_09_UP.data\",nrows=25175)\n"
          ]
        }
      ],
      "source": [
        "all_data=pd.read_csv(\"Mortality_09_UP.data\",nrows=25175)"
      ]
    },
    {
      "cell_type": "code",
      "execution_count": 1501,
      "metadata": {
        "colab": {
          "base_uri": "https://localhost:8080/",
          "height": 487
        },
        "id": "K_Z6quqsMJ5L",
        "outputId": "8d11dd0d-3a1d-42ff-b5b5-89a9c34ccc3d"
      },
      "outputs": [
        {
          "data": {
            "text/html": [
              "<div>\n",
              "<style scoped>\n",
              "    .dataframe tbody tr th:only-of-type {\n",
              "        vertical-align: middle;\n",
              "    }\n",
              "\n",
              "    .dataframe tbody tr th {\n",
              "        vertical-align: top;\n",
              "    }\n",
              "\n",
              "    .dataframe thead th {\n",
              "        text-align: right;\n",
              "    }\n",
              "</style>\n",
              "<table border=\"1\" class=\"dataframe\">\n",
              "  <thead>\n",
              "    <tr style=\"text-align: right;\">\n",
              "      <th></th>\n",
              "      <th>id</th>\n",
              "      <th>m_id</th>\n",
              "      <th>client_m_id</th>\n",
              "      <th>hl_id</th>\n",
              "      <th>house_no</th>\n",
              "      <th>house_hold_no</th>\n",
              "      <th>state</th>\n",
              "      <th>district</th>\n",
              "      <th>rural</th>\n",
              "      <th>stratum_code</th>\n",
              "      <th>...</th>\n",
              "      <th>householdstatus</th>\n",
              "      <th>isheadchanged</th>\n",
              "      <th>fidh</th>\n",
              "      <th>fidx</th>\n",
              "      <th>as</th>\n",
              "      <th>wt</th>\n",
              "      <th>x</th>\n",
              "      <th>schedule_id</th>\n",
              "      <th>year</th>\n",
              "      <th>v126</th>\n",
              "    </tr>\n",
              "  </thead>\n",
              "  <tbody>\n",
              "    <tr>\n",
              "      <th>0</th>\n",
              "      <td>712232</td>\n",
              "      <td>375.0</td>\n",
              "      <td>NaN</td>\n",
              "      <td>2944.0</td>\n",
              "      <td>63</td>\n",
              "      <td>3</td>\n",
              "      <td>9</td>\n",
              "      <td>58</td>\n",
              "      <td>1</td>\n",
              "      <td>1</td>\n",
              "      <td>...</td>\n",
              "      <td>NaN</td>\n",
              "      <td>NaN</td>\n",
              "      <td>NaN</td>\n",
              "      <td>2.944096e+10</td>\n",
              "      <td>-0.630351</td>\n",
              "      <td>68.37</td>\n",
              "      <td>NaN</td>\n",
              "      <td>4</td>\n",
              "      <td>1</td>\n",
              "      <td>NaN</td>\n",
              "    </tr>\n",
              "    <tr>\n",
              "      <th>1</th>\n",
              "      <td>712240</td>\n",
              "      <td>383.0</td>\n",
              "      <td>NaN</td>\n",
              "      <td>2997.0</td>\n",
              "      <td>28</td>\n",
              "      <td>1</td>\n",
              "      <td>9</td>\n",
              "      <td>58</td>\n",
              "      <td>1</td>\n",
              "      <td>1</td>\n",
              "      <td>...</td>\n",
              "      <td>NaN</td>\n",
              "      <td>NaN</td>\n",
              "      <td>NaN</td>\n",
              "      <td>2.997096e+10</td>\n",
              "      <td>-4.369212</td>\n",
              "      <td>68.37</td>\n",
              "      <td>NaN</td>\n",
              "      <td>4</td>\n",
              "      <td>1</td>\n",
              "      <td>NaN</td>\n",
              "    </tr>\n",
              "    <tr>\n",
              "      <th>2</th>\n",
              "      <td>109886</td>\n",
              "      <td>246.0</td>\n",
              "      <td>NaN</td>\n",
              "      <td>NaN</td>\n",
              "      <td>58</td>\n",
              "      <td>1</td>\n",
              "      <td>9</td>\n",
              "      <td>62</td>\n",
              "      <td>1</td>\n",
              "      <td>2</td>\n",
              "      <td>...</td>\n",
              "      <td>1.0</td>\n",
              "      <td>1.0</td>\n",
              "      <td>9.620340e+13</td>\n",
              "      <td>NaN</td>\n",
              "      <td>NaN</td>\n",
              "      <td>20.95</td>\n",
              "      <td>NaN</td>\n",
              "      <td>4</td>\n",
              "      <td>3</td>\n",
              "      <td>NaN</td>\n",
              "    </tr>\n",
              "    <tr>\n",
              "      <th>3</th>\n",
              "      <td>712216</td>\n",
              "      <td>359.0</td>\n",
              "      <td>NaN</td>\n",
              "      <td>2706.0</td>\n",
              "      <td>196</td>\n",
              "      <td>1</td>\n",
              "      <td>9</td>\n",
              "      <td>58</td>\n",
              "      <td>1</td>\n",
              "      <td>1</td>\n",
              "      <td>...</td>\n",
              "      <td>NaN</td>\n",
              "      <td>NaN</td>\n",
              "      <td>NaN</td>\n",
              "      <td>2.706096e+10</td>\n",
              "      <td>-2.996541</td>\n",
              "      <td>68.37</td>\n",
              "      <td>NaN</td>\n",
              "      <td>4</td>\n",
              "      <td>1</td>\n",
              "      <td>NaN</td>\n",
              "    </tr>\n",
              "    <tr>\n",
              "      <th>4</th>\n",
              "      <td>712224</td>\n",
              "      <td>367.0</td>\n",
              "      <td>NaN</td>\n",
              "      <td>2777.0</td>\n",
              "      <td>253</td>\n",
              "      <td>1</td>\n",
              "      <td>9</td>\n",
              "      <td>58</td>\n",
              "      <td>1</td>\n",
              "      <td>1</td>\n",
              "      <td>...</td>\n",
              "      <td>NaN</td>\n",
              "      <td>NaN</td>\n",
              "      <td>NaN</td>\n",
              "      <td>2.777096e+10</td>\n",
              "      <td>-3.951137</td>\n",
              "      <td>68.37</td>\n",
              "      <td>NaN</td>\n",
              "      <td>4</td>\n",
              "      <td>1</td>\n",
              "      <td>NaN</td>\n",
              "    </tr>\n",
              "    <tr>\n",
              "      <th>...</th>\n",
              "      <td>...</td>\n",
              "      <td>...</td>\n",
              "      <td>...</td>\n",
              "      <td>...</td>\n",
              "      <td>...</td>\n",
              "      <td>...</td>\n",
              "      <td>...</td>\n",
              "      <td>...</td>\n",
              "      <td>...</td>\n",
              "      <td>...</td>\n",
              "      <td>...</td>\n",
              "      <td>...</td>\n",
              "      <td>...</td>\n",
              "      <td>...</td>\n",
              "      <td>...</td>\n",
              "      <td>...</td>\n",
              "      <td>...</td>\n",
              "      <td>...</td>\n",
              "      <td>...</td>\n",
              "      <td>...</td>\n",
              "      <td>...</td>\n",
              "    </tr>\n",
              "    <tr>\n",
              "      <th>25170</th>\n",
              "      <td>643135</td>\n",
              "      <td>410.0</td>\n",
              "      <td>401.0</td>\n",
              "      <td>6366.0</td>\n",
              "      <td>244</td>\n",
              "      <td>1</td>\n",
              "      <td>9</td>\n",
              "      <td>3</td>\n",
              "      <td>1</td>\n",
              "      <td>2</td>\n",
              "      <td>...</td>\n",
              "      <td>NaN</td>\n",
              "      <td>NaN</td>\n",
              "      <td>NaN</td>\n",
              "      <td>6.366090e+10</td>\n",
              "      <td>5.052841</td>\n",
              "      <td>54.85</td>\n",
              "      <td>NaN</td>\n",
              "      <td>4</td>\n",
              "      <td>1</td>\n",
              "      <td>NaN</td>\n",
              "    </tr>\n",
              "    <tr>\n",
              "      <th>25171</th>\n",
              "      <td>643143</td>\n",
              "      <td>938.0</td>\n",
              "      <td>1009.0</td>\n",
              "      <td>6483.0</td>\n",
              "      <td>66</td>\n",
              "      <td>1</td>\n",
              "      <td>9</td>\n",
              "      <td>3</td>\n",
              "      <td>1</td>\n",
              "      <td>2</td>\n",
              "      <td>...</td>\n",
              "      <td>NaN</td>\n",
              "      <td>NaN</td>\n",
              "      <td>NaN</td>\n",
              "      <td>6.483090e+10</td>\n",
              "      <td>0.292205</td>\n",
              "      <td>54.85</td>\n",
              "      <td>NaN</td>\n",
              "      <td>4</td>\n",
              "      <td>1</td>\n",
              "      <td>NaN</td>\n",
              "    </tr>\n",
              "    <tr>\n",
              "      <th>25172</th>\n",
              "      <td>102148</td>\n",
              "      <td>38.0</td>\n",
              "      <td>NaN</td>\n",
              "      <td>NaN</td>\n",
              "      <td>56</td>\n",
              "      <td>1</td>\n",
              "      <td>9</td>\n",
              "      <td>61</td>\n",
              "      <td>2</td>\n",
              "      <td>0</td>\n",
              "      <td>...</td>\n",
              "      <td>1.0</td>\n",
              "      <td>2.0</td>\n",
              "      <td>9.610740e+13</td>\n",
              "      <td>NaN</td>\n",
              "      <td>NaN</td>\n",
              "      <td>54.00</td>\n",
              "      <td>NaN</td>\n",
              "      <td>4</td>\n",
              "      <td>3</td>\n",
              "      <td>NaN</td>\n",
              "    </tr>\n",
              "    <tr>\n",
              "      <th>25173</th>\n",
              "      <td>643119</td>\n",
              "      <td>394.0</td>\n",
              "      <td>385.0</td>\n",
              "      <td>6140.0</td>\n",
              "      <td>34</td>\n",
              "      <td>1</td>\n",
              "      <td>9</td>\n",
              "      <td>3</td>\n",
              "      <td>1</td>\n",
              "      <td>2</td>\n",
              "      <td>...</td>\n",
              "      <td>NaN</td>\n",
              "      <td>NaN</td>\n",
              "      <td>NaN</td>\n",
              "      <td>6.140090e+10</td>\n",
              "      <td>-2.376460</td>\n",
              "      <td>54.85</td>\n",
              "      <td>NaN</td>\n",
              "      <td>4</td>\n",
              "      <td>1</td>\n",
              "      <td>NaN</td>\n",
              "    </tr>\n",
              "    <tr>\n",
              "      <th>25174</th>\n",
              "      <td>643127</td>\n",
              "      <td>402.0</td>\n",
              "      <td>393.0</td>\n",
              "      <td>6229.0</td>\n",
              "      <td>122</td>\n",
              "      <td>1</td>\n",
              "      <td>9</td>\n",
              "      <td>3</td>\n",
              "      <td>1</td>\n",
              "      <td>2</td>\n",
              "      <td>...</td>\n",
              "      <td>NaN</td>\n",
              "      <td>NaN</td>\n",
              "      <td>NaN</td>\n",
              "      <td>6.229090e+10</td>\n",
              "      <td>-0.566020</td>\n",
              "      <td>54.85</td>\n",
              "      <td>NaN</td>\n",
              "      <td>4</td>\n",
              "      <td>1</td>\n",
              "      <td>NaN</td>\n",
              "    </tr>\n",
              "  </tbody>\n",
              "</table>\n",
              "<p>25175 rows × 122 columns</p>\n",
              "</div>"
            ],
            "text/plain": [
              "           id   m_id  client_m_id   hl_id  house_no  house_hold_no  state  \\\n",
              "0      712232  375.0          NaN  2944.0        63              3      9   \n",
              "1      712240  383.0          NaN  2997.0        28              1      9   \n",
              "2      109886  246.0          NaN     NaN        58              1      9   \n",
              "3      712216  359.0          NaN  2706.0       196              1      9   \n",
              "4      712224  367.0          NaN  2777.0       253              1      9   \n",
              "...       ...    ...          ...     ...       ...            ...    ...   \n",
              "25170  643135  410.0        401.0  6366.0       244              1      9   \n",
              "25171  643143  938.0       1009.0  6483.0        66              1      9   \n",
              "25172  102148   38.0          NaN     NaN        56              1      9   \n",
              "25173  643119  394.0        385.0  6140.0        34              1      9   \n",
              "25174  643127  402.0        393.0  6229.0       122              1      9   \n",
              "\n",
              "       district  rural  stratum_code  ...  householdstatus  isheadchanged  \\\n",
              "0            58      1             1  ...              NaN            NaN   \n",
              "1            58      1             1  ...              NaN            NaN   \n",
              "2            62      1             2  ...              1.0            1.0   \n",
              "3            58      1             1  ...              NaN            NaN   \n",
              "4            58      1             1  ...              NaN            NaN   \n",
              "...         ...    ...           ...  ...              ...            ...   \n",
              "25170         3      1             2  ...              NaN            NaN   \n",
              "25171         3      1             2  ...              NaN            NaN   \n",
              "25172        61      2             0  ...              1.0            2.0   \n",
              "25173         3      1             2  ...              NaN            NaN   \n",
              "25174         3      1             2  ...              NaN            NaN   \n",
              "\n",
              "               fidh          fidx        as     wt   x schedule_id year  v126  \n",
              "0               NaN  2.944096e+10 -0.630351  68.37 NaN           4    1   NaN  \n",
              "1               NaN  2.997096e+10 -4.369212  68.37 NaN           4    1   NaN  \n",
              "2      9.620340e+13           NaN       NaN  20.95 NaN           4    3   NaN  \n",
              "3               NaN  2.706096e+10 -2.996541  68.37 NaN           4    1   NaN  \n",
              "4               NaN  2.777096e+10 -3.951137  68.37 NaN           4    1   NaN  \n",
              "...             ...           ...       ...    ...  ..         ...  ...   ...  \n",
              "25170           NaN  6.366090e+10  5.052841  54.85 NaN           4    1   NaN  \n",
              "25171           NaN  6.483090e+10  0.292205  54.85 NaN           4    1   NaN  \n",
              "25172  9.610740e+13           NaN       NaN  54.00 NaN           4    3   NaN  \n",
              "25173           NaN  6.140090e+10 -2.376460  54.85 NaN           4    1   NaN  \n",
              "25174           NaN  6.229090e+10 -0.566020  54.85 NaN           4    1   NaN  \n",
              "\n",
              "[25175 rows x 122 columns]"
            ]
          },
          "execution_count": 1501,
          "metadata": {},
          "output_type": "execute_result"
        }
      ],
      "source": [
        "all_data"
      ]
    },
    {
      "cell_type": "code",
      "execution_count": 1502,
      "metadata": {
        "id": "2dRz699vY0bf"
      },
      "outputs": [],
      "source": [
        "columns = [\"age\",\"sex\", \"highest_qualification\", \"rural\", \"disability_status\", \"is_water_filter\", \"chew\", \"smoke\", \"alcohol\",\"treatment_source\"]\n",
        "death = all_data[columns].copy()"
      ]
    },
    {
      "cell_type": "code",
      "execution_count": 1503,
      "metadata": {
        "id": "gc4_n89QpesQ"
      },
      "outputs": [],
      "source": [
        "for column in columns:\n",
        "    death[column].fillna(death[column].mode()[0], inplace=True)\n"
      ]
    },
    {
      "cell_type": "code",
      "execution_count": 1504,
      "metadata": {},
      "outputs": [
        {
          "data": {
            "text/plain": [
              "Index(['age', 'sex', 'highest_qualification', 'rural', 'disability_status',\n",
              "       'is_water_filter', 'chew', 'smoke', 'alcohol', 'treatment_source'],\n",
              "      dtype='object')"
            ]
          },
          "execution_count": 1504,
          "metadata": {},
          "output_type": "execute_result"
        }
      ],
      "source": [
        "death.columns"
      ]
    },
    {
      "cell_type": "code",
      "execution_count": 1505,
      "metadata": {
        "colab": {
          "base_uri": "https://localhost:8080/"
        },
        "id": "WIKBYuxLpiqo",
        "outputId": "93155224-9637-4469-ee37-e2954e39c92e"
      },
      "outputs": [
        {
          "data": {
            "text/plain": [
              "age                      0\n",
              "sex                      0\n",
              "highest_qualification    0\n",
              "rural                    0\n",
              "disability_status        0\n",
              "is_water_filter          0\n",
              "chew                     0\n",
              "smoke                    0\n",
              "alcohol                  0\n",
              "treatment_source         0\n",
              "dtype: int64"
            ]
          },
          "execution_count": 1505,
          "metadata": {},
          "output_type": "execute_result"
        }
      ],
      "source": [
        "death.isnull().sum()"
      ]
    },
    {
      "cell_type": "code",
      "execution_count": 1506,
      "metadata": {
        "colab": {
          "base_uri": "https://localhost:8080/",
          "height": 487
        },
        "id": "CnpmYoLlGclT",
        "outputId": "a693a44f-c2c1-44bd-cbf0-0828cf3fd29d"
      },
      "outputs": [
        {
          "data": {
            "text/html": [
              "<div>\n",
              "<style scoped>\n",
              "    .dataframe tbody tr th:only-of-type {\n",
              "        vertical-align: middle;\n",
              "    }\n",
              "\n",
              "    .dataframe tbody tr th {\n",
              "        vertical-align: top;\n",
              "    }\n",
              "\n",
              "    .dataframe thead th {\n",
              "        text-align: right;\n",
              "    }\n",
              "</style>\n",
              "<table border=\"1\" class=\"dataframe\">\n",
              "  <thead>\n",
              "    <tr style=\"text-align: right;\">\n",
              "      <th></th>\n",
              "      <th>age</th>\n",
              "      <th>sex</th>\n",
              "      <th>highest_qualification</th>\n",
              "      <th>rural</th>\n",
              "      <th>disability_status</th>\n",
              "      <th>is_water_filter</th>\n",
              "      <th>chew</th>\n",
              "      <th>smoke</th>\n",
              "      <th>alcohol</th>\n",
              "      <th>treatment_source</th>\n",
              "    </tr>\n",
              "  </thead>\n",
              "  <tbody>\n",
              "    <tr>\n",
              "      <th>0</th>\n",
              "      <td>43.0</td>\n",
              "      <td>1.0</td>\n",
              "      <td>4.0</td>\n",
              "      <td>1</td>\n",
              "      <td>0.0</td>\n",
              "      <td>2.0</td>\n",
              "      <td>7.0</td>\n",
              "      <td>4.0</td>\n",
              "      <td>4.0</td>\n",
              "      <td>0.0</td>\n",
              "    </tr>\n",
              "    <tr>\n",
              "      <th>1</th>\n",
              "      <td>70.0</td>\n",
              "      <td>2.0</td>\n",
              "      <td>0.0</td>\n",
              "      <td>1</td>\n",
              "      <td>0.0</td>\n",
              "      <td>2.0</td>\n",
              "      <td>5.0</td>\n",
              "      <td>4.0</td>\n",
              "      <td>4.0</td>\n",
              "      <td>9.0</td>\n",
              "    </tr>\n",
              "    <tr>\n",
              "      <th>2</th>\n",
              "      <td>57.0</td>\n",
              "      <td>2.0</td>\n",
              "      <td>3.0</td>\n",
              "      <td>1</td>\n",
              "      <td>0.0</td>\n",
              "      <td>2.0</td>\n",
              "      <td>7.0</td>\n",
              "      <td>4.0</td>\n",
              "      <td>4.0</td>\n",
              "      <td>0.0</td>\n",
              "    </tr>\n",
              "    <tr>\n",
              "      <th>3</th>\n",
              "      <td>50.0</td>\n",
              "      <td>1.0</td>\n",
              "      <td>0.0</td>\n",
              "      <td>1</td>\n",
              "      <td>0.0</td>\n",
              "      <td>2.0</td>\n",
              "      <td>1.0</td>\n",
              "      <td>1.0</td>\n",
              "      <td>1.0</td>\n",
              "      <td>9.0</td>\n",
              "    </tr>\n",
              "    <tr>\n",
              "      <th>4</th>\n",
              "      <td>65.0</td>\n",
              "      <td>2.0</td>\n",
              "      <td>0.0</td>\n",
              "      <td>1</td>\n",
              "      <td>0.0</td>\n",
              "      <td>2.0</td>\n",
              "      <td>7.0</td>\n",
              "      <td>4.0</td>\n",
              "      <td>4.0</td>\n",
              "      <td>0.0</td>\n",
              "    </tr>\n",
              "    <tr>\n",
              "      <th>...</th>\n",
              "      <td>...</td>\n",
              "      <td>...</td>\n",
              "      <td>...</td>\n",
              "      <td>...</td>\n",
              "      <td>...</td>\n",
              "      <td>...</td>\n",
              "      <td>...</td>\n",
              "      <td>...</td>\n",
              "      <td>...</td>\n",
              "      <td>...</td>\n",
              "    </tr>\n",
              "    <tr>\n",
              "      <th>25170</th>\n",
              "      <td>38.0</td>\n",
              "      <td>1.0</td>\n",
              "      <td>4.0</td>\n",
              "      <td>1</td>\n",
              "      <td>0.0</td>\n",
              "      <td>2.0</td>\n",
              "      <td>3.0</td>\n",
              "      <td>4.0</td>\n",
              "      <td>4.0</td>\n",
              "      <td>9.0</td>\n",
              "    </tr>\n",
              "    <tr>\n",
              "      <th>25171</th>\n",
              "      <td>38.0</td>\n",
              "      <td>2.0</td>\n",
              "      <td>0.0</td>\n",
              "      <td>1</td>\n",
              "      <td>0.0</td>\n",
              "      <td>2.0</td>\n",
              "      <td>7.0</td>\n",
              "      <td>4.0</td>\n",
              "      <td>4.0</td>\n",
              "      <td>8.0</td>\n",
              "    </tr>\n",
              "    <tr>\n",
              "      <th>25172</th>\n",
              "      <td>42.0</td>\n",
              "      <td>1.0</td>\n",
              "      <td>0.0</td>\n",
              "      <td>2</td>\n",
              "      <td>0.0</td>\n",
              "      <td>2.0</td>\n",
              "      <td>1.0</td>\n",
              "      <td>1.0</td>\n",
              "      <td>4.0</td>\n",
              "      <td>6.0</td>\n",
              "    </tr>\n",
              "    <tr>\n",
              "      <th>25173</th>\n",
              "      <td>35.0</td>\n",
              "      <td>1.0</td>\n",
              "      <td>0.0</td>\n",
              "      <td>1</td>\n",
              "      <td>0.0</td>\n",
              "      <td>2.0</td>\n",
              "      <td>7.0</td>\n",
              "      <td>1.0</td>\n",
              "      <td>4.0</td>\n",
              "      <td>8.0</td>\n",
              "    </tr>\n",
              "    <tr>\n",
              "      <th>25174</th>\n",
              "      <td>60.0</td>\n",
              "      <td>2.0</td>\n",
              "      <td>0.0</td>\n",
              "      <td>1</td>\n",
              "      <td>0.0</td>\n",
              "      <td>2.0</td>\n",
              "      <td>7.0</td>\n",
              "      <td>4.0</td>\n",
              "      <td>4.0</td>\n",
              "      <td>8.0</td>\n",
              "    </tr>\n",
              "  </tbody>\n",
              "</table>\n",
              "<p>25175 rows × 10 columns</p>\n",
              "</div>"
            ],
            "text/plain": [
              "        age  sex  highest_qualification  rural  disability_status  \\\n",
              "0      43.0  1.0                    4.0      1                0.0   \n",
              "1      70.0  2.0                    0.0      1                0.0   \n",
              "2      57.0  2.0                    3.0      1                0.0   \n",
              "3      50.0  1.0                    0.0      1                0.0   \n",
              "4      65.0  2.0                    0.0      1                0.0   \n",
              "...     ...  ...                    ...    ...                ...   \n",
              "25170  38.0  1.0                    4.0      1                0.0   \n",
              "25171  38.0  2.0                    0.0      1                0.0   \n",
              "25172  42.0  1.0                    0.0      2                0.0   \n",
              "25173  35.0  1.0                    0.0      1                0.0   \n",
              "25174  60.0  2.0                    0.0      1                0.0   \n",
              "\n",
              "       is_water_filter  chew  smoke  alcohol  treatment_source  \n",
              "0                  2.0   7.0    4.0      4.0               0.0  \n",
              "1                  2.0   5.0    4.0      4.0               9.0  \n",
              "2                  2.0   7.0    4.0      4.0               0.0  \n",
              "3                  2.0   1.0    1.0      1.0               9.0  \n",
              "4                  2.0   7.0    4.0      4.0               0.0  \n",
              "...                ...   ...    ...      ...               ...  \n",
              "25170              2.0   3.0    4.0      4.0               9.0  \n",
              "25171              2.0   7.0    4.0      4.0               8.0  \n",
              "25172              2.0   1.0    1.0      4.0               6.0  \n",
              "25173              2.0   7.0    1.0      4.0               8.0  \n",
              "25174              2.0   7.0    4.0      4.0               8.0  \n",
              "\n",
              "[25175 rows x 10 columns]"
            ]
          },
          "execution_count": 1506,
          "metadata": {},
          "output_type": "execute_result"
        }
      ],
      "source": [
        "death"
      ]
    },
    {
      "cell_type": "code",
      "execution_count": 1507,
      "metadata": {
        "colab": {
          "base_uri": "https://localhost:8080/"
        },
        "id": "9KF8cBrpFtKG",
        "outputId": "4f84779a-a034-4ab7-839b-5023e5ca5a05"
      },
      "outputs": [
        {
          "data": {
            "text/plain": [
              "age                      float64\n",
              "sex                      float64\n",
              "highest_qualification    float64\n",
              "rural                      int64\n",
              "disability_status        float64\n",
              "is_water_filter          float64\n",
              "chew                     float64\n",
              "smoke                    float64\n",
              "alcohol                  float64\n",
              "treatment_source         float64\n",
              "dtype: object"
            ]
          },
          "execution_count": 1507,
          "metadata": {},
          "output_type": "execute_result"
        }
      ],
      "source": [
        "death.dtypes"
      ]
    },
    {
      "cell_type": "code",
      "execution_count": 1508,
      "metadata": {
        "id": "JWoVMu4kq_0k"
      },
      "outputs": [],
      "source": [
        "x=death.drop('age',axis=1)\n",
        "y=death['age']"
      ]
    },
    {
      "cell_type": "code",
      "execution_count": 1509,
      "metadata": {
        "colab": {
          "base_uri": "https://localhost:8080/"
        },
        "id": "DTBjdWv1rHKD",
        "outputId": "0d63eac2-55ab-4743-f20c-e33c2edd16bb"
      },
      "outputs": [
        {
          "data": {
            "text/plain": [
              "(25175, 9)"
            ]
          },
          "execution_count": 1509,
          "metadata": {},
          "output_type": "execute_result"
        }
      ],
      "source": [
        "x.shape"
      ]
    },
    {
      "cell_type": "code",
      "execution_count": 1510,
      "metadata": {
        "colab": {
          "base_uri": "https://localhost:8080/"
        },
        "id": "guIUGSszFwJt",
        "outputId": "782f8e98-c5af-4025-ff35-24f53d28e28a"
      },
      "outputs": [
        {
          "data": {
            "text/plain": [
              "sex                      float64\n",
              "highest_qualification    float64\n",
              "rural                      int64\n",
              "disability_status        float64\n",
              "is_water_filter          float64\n",
              "chew                     float64\n",
              "smoke                    float64\n",
              "alcohol                  float64\n",
              "treatment_source         float64\n",
              "dtype: object"
            ]
          },
          "execution_count": 1510,
          "metadata": {},
          "output_type": "execute_result"
        }
      ],
      "source": [
        "x.dtypes"
      ]
    },
    {
      "cell_type": "code",
      "execution_count": 1511,
      "metadata": {
        "colab": {
          "base_uri": "https://localhost:8080/"
        },
        "id": "YbDv1mqYrItn",
        "outputId": "7078b7ea-4bce-496f-9595-f03074b629c1"
      },
      "outputs": [
        {
          "data": {
            "text/plain": [
              "(25175,)"
            ]
          },
          "execution_count": 1511,
          "metadata": {},
          "output_type": "execute_result"
        }
      ],
      "source": [
        "y.shape"
      ]
    },
    {
      "cell_type": "code",
      "execution_count": 1512,
      "metadata": {
        "id": "luOCyZesrTTW"
      },
      "outputs": [],
      "source": [
        "#train-test split\n",
        "from sklearn.model_selection import train_test_split\n",
        "\n",
        "X_train, X_test,y_train, y_test = train_test_split(x,y ,random_state=104,test_size=0.25,shuffle=True)"
      ]
    },
    {
      "cell_type": "code",
      "execution_count": 1513,
      "metadata": {
        "colab": {
          "base_uri": "https://localhost:8080/"
        },
        "id": "f1U0H5Aqs6MW",
        "outputId": "171443b8-41de-4a90-d5d8-9e1c9df9ffc3"
      },
      "outputs": [
        {
          "data": {
            "text/plain": [
              "(18881, 9)"
            ]
          },
          "execution_count": 1513,
          "metadata": {},
          "output_type": "execute_result"
        }
      ],
      "source": [
        "X_train.shape"
      ]
    },
    {
      "cell_type": "code",
      "execution_count": 1514,
      "metadata": {
        "id": "ngu5xwrWplz1"
      },
      "outputs": [],
      "source": [
        "import tensorflow as tf\n"
      ]
    },
    {
      "cell_type": "code",
      "execution_count": 1515,
      "metadata": {
        "id": "rD5I9NQepwL-"
      },
      "outputs": [],
      "source": [
        "#Build model\n",
        "\n",
        "model=tf.keras.Sequential()"
      ]
    },
    {
      "cell_type": "code",
      "execution_count": 1516,
      "metadata": {
        "id": "sSRrS3iMqU8q"
      },
      "outputs": [],
      "source": [
        "# bias=tf.keras.initializers.HeNormal()\n",
        "\n",
        "# model.add(tf.keras.layers.Dense(10,kernel_initializer=\"he_normal\",use_bias=True,activation='sigmoid',bias_initializer=bias,input_shape=(9,)))\n",
        "# model.add(tf.keras.layers.Dense(20,kernel_initializer=\"he_normal\",use_bias=True,activation='softmax',bias_initializer=bias))\n",
        "# model.add(tf.keras.layers.Dense(1,kernel_initializer=\"he_normal\",use_bias=True,activation='leaky_relu',bias_initializer=bias,input_shape=(9,)))"
      ]
    },
    {
      "cell_type": "code",
      "execution_count": 1517,
      "metadata": {},
      "outputs": [],
      "source": [
        "# bias=tf.keras.initializers.HeNormal()\n",
        "\n",
        "# model.add(tf.keras.layers.Dense(10,kernel_initializer=\"he_normal\",use_bias=True,activation='sigmoid',bias_initializer=bias,input_shape=(9,)))\n",
        "# model.add(tf.keras.layers.Dense(20,kernel_initializer=\"he_normal\",use_bias=True,activation='softmax',bias_initializer=bias))\n",
        "# model.add(tf.keras.layers.Dense(1,kernel_initializer=\"he_normal\",use_bias=True,activation='sigmoid',bias_initializer=bias,input_shape=(9,)))"
      ]
    },
    {
      "cell_type": "code",
      "execution_count": 1518,
      "metadata": {},
      "outputs": [
        {
          "name": "stderr",
          "output_type": "stream",
          "text": [
            "c:\\Users\\User\\AppData\\Local\\Programs\\Python\\Python311\\Lib\\site-packages\\keras\\initializers\\initializers.py:120: UserWarning: The initializer HeNormal is unseeded and being called multiple times, which will return identical values each time (even if the initializer is unseeded). Please update your code to provide a seed to the initializer, or avoid using the same initalizer instance more than once.\n",
            "  warnings.warn(\n"
          ]
        }
      ],
      "source": [
        "import tensorflow as tf\n",
        "\n",
        "bias=tf.keras.initializers.HeNormal()\n",
        "\n",
        "model = tf.keras.Sequential([\n",
        "  tf.keras.layers.Dense(10, kernel_initializer=\"he_normal\", bias_initializer=bias, activation='sigmoid', input_shape=(9,)),\n",
        "  tf.keras.layers.Dense(20, kernel_initializer=\"he_normal\", bias_initializer=bias, activation='relu'),\n",
        "  tf.keras.layers.Dense(1, kernel_initializer=\"he_normal\", bias_initializer=bias, activation='swish', input_shape=(9,))\n",
        "])\n"
      ]
    },
    {
      "cell_type": "code",
      "execution_count": 1519,
      "metadata": {
        "colab": {
          "base_uri": "https://localhost:8080/"
        },
        "id": "vKsDJYLus_Ve",
        "outputId": "5b6acb09-3cc4-42c7-aabd-c07c3f60624d"
      },
      "outputs": [
        {
          "name": "stdout",
          "output_type": "stream",
          "text": [
            "Model: \"sequential_82\"\n",
            "_________________________________________________________________\n",
            " Layer (type)                Output Shape              Param #   \n",
            "=================================================================\n",
            " dense_163 (Dense)           (None, 10)                100       \n",
            "                                                                 \n",
            " dense_164 (Dense)           (None, 20)                220       \n",
            "                                                                 \n",
            " dense_165 (Dense)           (None, 1)                 21        \n",
            "                                                                 \n",
            "=================================================================\n",
            "Total params: 341\n",
            "Trainable params: 341\n",
            "Non-trainable params: 0\n",
            "_________________________________________________________________\n"
          ]
        }
      ],
      "source": [
        "model.summary()"
      ]
    },
    {
      "cell_type": "code",
      "execution_count": 1520,
      "metadata": {
        "id": "BHERl9jsuHoB"
      },
      "outputs": [],
      "source": [
        "# model.compile(optimizer=tf.keras.optimizers.Adam(0.1),loss=tf.keras.losses.MeanAbsoluteError(),metrics=[tf.keras.metrics.RootMeanSquaredError()])"
      ]
    },
    {
      "cell_type": "code",
      "execution_count": 1521,
      "metadata": {},
      "outputs": [],
      "source": [
        "model.compile(optimizer=tf.keras.optimizers.Adam(0.1),loss=tf.keras.losses.MeanAbsoluteError(),metrics=[tf.keras.metrics.RootMeanSquaredError() , 'accuracy'])"
      ]
    },
    {
      "cell_type": "code",
      "execution_count": 1522,
      "metadata": {
        "colab": {
          "base_uri": "https://localhost:8080/"
        },
        "id": "71Wo-Psxvqju",
        "outputId": "ca262a6b-1b88-4c60-9b3a-24f3135af71b"
      },
      "outputs": [
        {
          "name": "stdout",
          "output_type": "stream",
          "text": [
            "Epoch 1/20\n",
            "1181/1181 [==============================] - 5s 2ms/step - loss: 12.8052 - root_mean_squared_error: 15.7190 - accuracy: 5.2963e-05\n",
            "Epoch 2/20\n",
            "1181/1181 [==============================] - 2s 2ms/step - loss: 12.5055 - root_mean_squared_error: 15.2362 - accuracy: 5.2963e-05\n",
            "Epoch 3/20\n",
            "1181/1181 [==============================] - 2s 2ms/step - loss: 12.4578 - root_mean_squared_error: 15.1519 - accuracy: 5.2963e-05\n",
            "Epoch 4/20\n",
            "1181/1181 [==============================] - 2s 1ms/step - loss: 12.4641 - root_mean_squared_error: 15.1765 - accuracy: 5.2963e-05\n",
            "Epoch 5/20\n",
            "1181/1181 [==============================] - 2s 2ms/step - loss: 12.4620 - root_mean_squared_error: 15.1349 - accuracy: 5.2963e-05\n",
            "Epoch 6/20\n",
            "1181/1181 [==============================] - 2s 2ms/step - loss: 12.4672 - root_mean_squared_error: 15.1532 - accuracy: 5.2963e-05\n",
            "Epoch 7/20\n",
            "1181/1181 [==============================] - 2s 2ms/step - loss: 12.4002 - root_mean_squared_error: 15.0721 - accuracy: 5.2963e-05\n",
            "Epoch 8/20\n",
            "1181/1181 [==============================] - 3s 2ms/step - loss: 12.3850 - root_mean_squared_error: 15.0536 - accuracy: 5.2963e-05\n",
            "Epoch 9/20\n",
            "1181/1181 [==============================] - 2s 2ms/step - loss: 12.2591 - root_mean_squared_error: 14.9344 - accuracy: 5.2963e-05\n",
            "Epoch 10/20\n",
            "1181/1181 [==============================] - 2s 2ms/step - loss: 12.1861 - root_mean_squared_error: 14.8447 - accuracy: 5.2963e-05\n",
            "Epoch 11/20\n",
            "1181/1181 [==============================] - 2s 2ms/step - loss: 12.2709 - root_mean_squared_error: 14.8866 - accuracy: 5.2963e-05\n",
            "Epoch 12/20\n",
            "1181/1181 [==============================] - 3s 2ms/step - loss: 12.3053 - root_mean_squared_error: 14.9227 - accuracy: 5.2963e-05\n",
            "Epoch 13/20\n",
            "1181/1181 [==============================] - 2s 2ms/step - loss: 12.2881 - root_mean_squared_error: 14.9179 - accuracy: 5.2963e-05\n",
            "Epoch 14/20\n",
            "1181/1181 [==============================] - 2s 2ms/step - loss: 12.2331 - root_mean_squared_error: 14.8507 - accuracy: 5.2963e-05\n",
            "Epoch 15/20\n",
            "1181/1181 [==============================] - 2s 2ms/step - loss: 12.2481 - root_mean_squared_error: 14.8444 - accuracy: 5.2963e-05\n",
            "Epoch 16/20\n",
            "1181/1181 [==============================] - 2s 2ms/step - loss: 12.2203 - root_mean_squared_error: 14.8174 - accuracy: 5.2963e-05\n",
            "Epoch 17/20\n",
            "1181/1181 [==============================] - 2s 2ms/step - loss: 12.2682 - root_mean_squared_error: 14.8648 - accuracy: 5.2963e-05\n",
            "Epoch 18/20\n",
            "1181/1181 [==============================] - 2s 2ms/step - loss: 12.2618 - root_mean_squared_error: 14.8784 - accuracy: 5.2963e-05\n",
            "Epoch 19/20\n",
            "1181/1181 [==============================] - 2s 2ms/step - loss: 12.2633 - root_mean_squared_error: 14.8621 - accuracy: 5.2963e-05\n",
            "Epoch 20/20\n",
            "1181/1181 [==============================] - 2s 2ms/step - loss: 12.2676 - root_mean_squared_error: 14.8649 - accuracy: 5.2963e-05\n"
          ]
        }
      ],
      "source": [
        "learning=model.fit(X_train,y_train,epochs=20,batch_size=16,verbose=True)"
      ]
    },
    {
      "cell_type": "code",
      "execution_count": 1523,
      "metadata": {
        "id": "QLLtn7gEyNIE"
      },
      "outputs": [],
      "source": [
        "import matplotlib.pyplot as plt"
      ]
    },
    {
      "cell_type": "code",
      "execution_count": 1524,
      "metadata": {
        "id": "hcyJPqaAwmXP"
      },
      "outputs": [],
      "source": [
        "def plot(learning):\n",
        "  plt.plot(learning.history['loss'])\n",
        "  plt.xlabel(\"epochs\")\n",
        "  plt.ylabel(\"Cost\")\n",
        "\n",
        "  plt.show()\n"
      ]
    },
    {
      "cell_type": "code",
      "execution_count": 1525,
      "metadata": {
        "colab": {
          "base_uri": "https://localhost:8080/",
          "height": 449
        },
        "id": "qXR14ENhyfIE",
        "outputId": "e3d3d94e-db7a-4469-a374-b57593c14997"
      },
      "outputs": [
        {
          "data": {
            "image/png": "[encoded data removed]",
            "text/plain": [
              "<Figure size 640x480 with 1 Axes>"
            ]
          },
          "metadata": {},
          "output_type": "display_data"
        }
      ],
      "source": [
        "plot(learning)"
      ]
    },
    {
      "cell_type": "code",
      "execution_count": 1526,
      "metadata": {
        "colab": {
          "base_uri": "https://localhost:8080/"
        },
        "id": "EX9x_DITjcsx",
        "outputId": "e79df952-a11f-4b22-fbc5-dcbc34aef2b4"
      },
      "outputs": [
        {
          "data": {
            "text/plain": [
              "[<tf.Variable 'dense_163/kernel:0' shape=(9, 10) dtype=float32, numpy=\n",
              " array([[  1.9352542 ,   0.7197234 ,   3.0392404 ,   2.3801122 ,\n",
              "           4.0455027 ,   3.696931  ,  -0.14629205,  -2.8006995 ,\n",
              "           3.003626  ,   4.6234837 ],\n",
              "        [  0.86438274,   8.43592   ,   0.88968617,   0.85620666,\n",
              "          -6.8249273 ,   1.2279513 , -27.981796  ,  -3.7099302 ,\n",
              "           1.3781626 ,  -8.130184  ],\n",
              "        [  0.69436985,   2.4366472 ,   3.7019212 ,   1.8245829 ,\n",
              "          -2.0766473 ,   2.4924905 ,  -6.120029  ,  -2.1629248 ,\n",
              "           3.417669  ,  10.254252  ],\n",
              "        [  4.1349077 ,   3.4875617 ,   2.7858832 ,   0.9486501 ,\n",
              "          36.702976  ,   2.1533172 ,   2.0786474 ,  -0.47557655,\n",
              "           1.4526335 ,  25.074354  ],\n",
              "        [  2.7575166 ,   3.7399511 ,   3.9097717 ,   3.2379096 ,\n",
              "          -3.018517  ,   3.3472412 ,  -5.5255127 ,  -3.3600318 ,\n",
              "           4.0415697 ,   1.426836  ],\n",
              "        [  0.9847406 ,   4.9442396 ,   1.6394681 ,   0.4183011 ,\n",
              "           3.8402014 ,   1.1066358 ,  -2.4429429 ,  -1.1350634 ,\n",
              "           1.394587  ,   8.334372  ],\n",
              "        [  0.95584565,   4.968508  ,   1.0156918 ,   1.1666027 ,\n",
              "          -5.2362466 ,   1.3329911 ,  -4.9413133 ,  -1.7819918 ,\n",
              "           2.583325  ,   3.5917454 ],\n",
              "        [  0.34848285,   4.313429  ,   0.95235354,   0.45905265,\n",
              "           2.107553  ,   1.5084579 ,  -3.0353978 ,  -1.2403842 ,\n",
              "           1.276716  ,   9.900196  ],\n",
              "        [  0.8091344 ,   5.1818137 ,   1.3480792 ,   0.6669502 ,\n",
              "           2.8861532 ,   0.8532476 ,  -2.2833939 ,  -1.8818902 ,\n",
              "           1.2213322 ,  -0.5338254 ]], dtype=float32)>,\n",
              " <tf.Variable 'dense_163/bias:0' shape=(10,) dtype=float32, numpy=\n",
              " array([ 1.7280113,  2.640695 ,  3.1243439,  1.1323657, -3.9530568,\n",
              "         2.60762  , -5.996894 , -2.464623 ,  3.3740606,  2.0239818],\n",
              "       dtype=float32)>,\n",
              " <tf.Variable 'dense_164/kernel:0' shape=(10, 20) dtype=float32, numpy=\n",
              " array([[-2.88061410e-01, -9.89388108e-01,  4.35639083e-01,\n",
              "         -1.35071409e+00, -8.28464627e-01, -4.21097040e-01,\n",
              "         -1.10109246e+00, -4.39101726e-01, -5.41551948e-01,\n",
              "         -5.91166615e-01, -4.47883368e-01, -1.26395613e-01,\n",
              "         -6.51293099e-01, -1.02022541e+00, -3.55648518e+00,\n",
              "         -5.21871090e-01,  1.22339882e-01, -1.93772113e+00,\n",
              "         -1.81386530e+00, -2.62145948e+00],\n",
              "        [ 6.64674714e-02, -2.10087419e-01, -1.94616273e-01,\n",
              "         -5.94591081e-01, -8.48283887e-01,  3.09959203e-01,\n",
              "         -1.00081718e+00, -8.46494555e-01, -3.90573442e-01,\n",
              "         -6.68549955e-01, -4.21902031e-01, -1.32831931e+00,\n",
              "         -8.59562516e-01, -9.94813263e-01, -3.59585977e+00,\n",
              "         -1.32409021e-01, -8.92614245e-01, -1.12855899e+00,\n",
              "         -1.04764199e+00, -1.48123717e+00],\n",
              "        [-5.53833604e-01, -2.11431170e+00, -7.37604439e-01,\n",
              "         -1.34234548e+00, -3.28947306e-01, -3.16475064e-01,\n",
              "         -2.33392453e+00, -5.11268198e-01, -6.79363608e-01,\n",
              "         -3.24875534e-01, -2.00572774e-01, -5.94439685e-01,\n",
              "         -4.08980638e-01, -8.88669729e-01, -3.13304877e+00,\n",
              "         -3.70605737e-01, -1.53577423e+00, -1.43376791e+00,\n",
              "          2.10015371e-01, -3.15374088e+00],\n",
              "        [ 2.50816196e-02, -1.02438474e+00,  2.40875229e-01,\n",
              "          2.63162076e-01, -8.27892303e-01, -1.01596904e+00,\n",
              "         -1.47885883e+00, -4.78327632e-01, -4.23610836e-01,\n",
              "         -1.18438900e+00, -4.35773373e-01, -4.29561943e-01,\n",
              "         -1.29085219e+00, -1.02713823e+00, -3.08948636e+00,\n",
              "         -2.69961476e-01, -1.00566638e+00, -9.90730107e-01,\n",
              "         -9.75153983e-01, -3.38188219e+00],\n",
              "        [-1.79140761e-01, -8.27039719e-01, -7.41196647e-02,\n",
              "         -1.14209855e+00, -1.13418591e+00,  1.35952622e-01,\n",
              "         -2.37812707e-03,  9.87523869e-02,  5.97853780e-01,\n",
              "         -1.26274109e-01,  1.56863406e-01, -1.16703296e+00,\n",
              "         -6.49887621e-01, -1.75915349e+00,  1.28354092e+01,\n",
              "         -3.55465442e-01, -2.72777200e-01, -2.33259726e+00,\n",
              "         -3.66442084e-01, -2.43237123e-01],\n",
              "        [-8.58566344e-01, -9.50780451e-01, -1.85355097e-01,\n",
              "         -1.44976151e+00,  1.06120966e-01, -2.34777089e-02,\n",
              "         -1.23039842e+00, -9.37153324e-02, -6.90595806e-01,\n",
              "         -1.16920877e+00, -4.90273684e-02, -7.46904790e-01,\n",
              "         -3.13760668e-01, -1.48967242e+00, -3.50584245e+00,\n",
              "         -4.70649123e-01, -7.63904810e-01, -1.36610770e+00,\n",
              "         -1.08334529e+00, -2.60183978e+00],\n",
              "        [ 1.00916255e+00,  6.51545465e-01,  6.71434402e-01,\n",
              "         -3.64361674e-01, -8.03071022e-01,  5.92777610e-01,\n",
              "         -1.96006024e+00, -2.83424467e-01, -5.67888975e-01,\n",
              "         -8.05804014e-01,  1.49273801e+00, -7.42758214e-02,\n",
              "          1.31487978e+00,  5.56634378e+00,  5.22342062e+00,\n",
              "          1.38334304e-01, -4.97446865e-01,  2.93546295e+00,\n",
              "         -4.30005401e-01, -7.90731192e-01],\n",
              "        [ 4.09927845e-01,  1.71142936e-01, -2.35109299e-01,\n",
              "          3.27384591e-01, -8.60007703e-01, -3.50096911e-01,\n",
              "         -9.29749370e-01, -3.09497982e-01, -1.03010941e+00,\n",
              "         -5.82538903e-01,  1.99126154e-01, -5.42765439e-01,\n",
              "          3.94346654e-01, -7.96532452e-01,  2.31585622e+00,\n",
              "         -5.09100378e-01, -6.78537965e-01, -2.38554224e-01,\n",
              "         -7.11990654e-01, -7.73554981e-01],\n",
              "        [-3.88060182e-01, -6.43460333e-01, -4.72390443e-01,\n",
              "         -1.03512073e+00, -4.76025462e-01, -1.38448238e-01,\n",
              "         -1.16081822e+00, -1.10782556e-01,  2.19024524e-01,\n",
              "         -1.10979879e+00, -8.52048337e-01, -7.22286761e-01,\n",
              "         -3.94054800e-01, -1.62147260e+00, -3.55008173e+00,\n",
              "         -2.31627867e-01, -8.26203048e-01, -1.11714721e+00,\n",
              "         -9.55690384e-01, -1.91010201e+00],\n",
              "        [ 1.91081420e-01, -4.02680337e-01, -5.68756878e-01,\n",
              "          2.41344824e-01, -4.75347251e-01,  5.73297977e-01,\n",
              "         -3.84311557e-01, -1.03180051e+00,  3.25062066e-01,\n",
              "         -4.39297736e-01,  3.47315729e-01, -4.98915881e-01,\n",
              "         -2.86214739e-01, -6.22479200e-01, -4.27372068e-01,\n",
              "         -9.91483510e-01, -1.17437792e+00,  1.60969996e+00,\n",
              "         -8.40830877e-02, -2.33852196e+00]], dtype=float32)>,\n",
              " <tf.Variable 'dense_164/bias:0' shape=(20,) dtype=float32, numpy=\n",
              " array([ 0.43589404, -0.71001315, -0.12243122, -0.6685007 , -0.9307069 ,\n",
              "         0.1985618 , -0.91682935, -0.5146457 ,  0.4097552 , -0.6428017 ,\n",
              "        -0.40939257, -0.48254028, -0.11126506, -0.16836031, -3.099325  ,\n",
              "        -0.22033265, -0.36654907, -0.92572254, -0.41491273, -2.5623279 ],\n",
              "       dtype=float32)>,\n",
              " <tf.Variable 'dense_165/kernel:0' shape=(20, 1) dtype=float32, numpy=\n",
              " array([[-0.07913434],\n",
              "        [ 0.0948713 ],\n",
              "        [-0.6034572 ],\n",
              "        [-0.20609316],\n",
              "        [ 0.44683945],\n",
              "        [ 0.06354032],\n",
              "        [ 0.20481971],\n",
              "        [ 0.5153736 ],\n",
              "        [-0.06881344],\n",
              "        [ 0.03441535],\n",
              "        [ 0.17264423],\n",
              "        [ 0.35415074],\n",
              "        [-0.1289735 ],\n",
              "        [ 1.418707  ],\n",
              "        [ 0.0976751 ],\n",
              "        [ 0.33898774],\n",
              "        [ 0.5134107 ],\n",
              "        [-1.9358367 ],\n",
              "        [ 0.34703746],\n",
              "        [ 0.49422395]], dtype=float32)>,\n",
              " <tf.Variable 'dense_165/bias:0' shape=(1,) dtype=float32, numpy=array([45.252632], dtype=float32)>]"
            ]
          },
          "execution_count": 1526,
          "metadata": {},
          "output_type": "execute_result"
        }
      ],
      "source": [
        "model.weights"
      ]
    },
    {
      "cell_type": "code",
      "execution_count": 1527,
      "metadata": {
        "colab": {
          "base_uri": "https://localhost:8080/"
        },
        "id": "pIIEs_lHme7t",
        "outputId": "2cccc6cd-90b9-41db-ef2b-ea26d931e79f"
      },
      "outputs": [
        {
          "data": {
            "text/plain": [
              "['model2.pkl']"
            ]
          },
          "execution_count": 1527,
          "metadata": {},
          "output_type": "execute_result"
        }
      ],
      "source": [
        "import joblib\n",
        "\n",
        "joblib.dump(model,\"model2.pkl\")"
      ]
    },
    {
      "cell_type": "code",
      "execution_count": 1528,
      "metadata": {
        "id": "t0HmeF6EsKWp"
      },
      "outputs": [],
      "source": [
        "#loading\n",
        "p_model=joblib.load(\"model2.pkl\")"
      ]
    },
    {
      "cell_type": "code",
      "execution_count": 1529,
      "metadata": {
        "colab": {
          "base_uri": "https://localhost:8080/"
        },
        "id": "3CzqSjGYsWFb",
        "outputId": "8fd0ba5d-16ce-4ee6-b1eb-4cefb238ee23"
      },
      "outputs": [
        {
          "name": "stdout",
          "output_type": "stream",
          "text": [
            "Model: \"sequential_82\"\n",
            "_________________________________________________________________\n",
            " Layer (type)                Output Shape              Param #   \n",
            "=================================================================\n",
            " dense_163 (Dense)           (None, 10)                100       \n",
            "                                                                 \n",
            " dense_164 (Dense)           (None, 20)                220       \n",
            "                                                                 \n",
            " dense_165 (Dense)           (None, 1)                 21        \n",
            "                                                                 \n",
            "=================================================================\n",
            "Total params: 341\n",
            "Trainable params: 341\n",
            "Non-trainable params: 0\n",
            "_________________________________________________________________\n"
          ]
        }
      ],
      "source": [
        "p_model.summary()"
      ]
    },
    {
      "cell_type": "code",
      "execution_count": 1530,
      "metadata": {
        "colab": {
          "base_uri": "https://localhost:8080/"
        },
        "id": "MjuHLl6esYkT",
        "outputId": "ead0ed5f-4e41-45e5-ad69-d4804055621c"
      },
      "outputs": [
        {
          "name": "stdout",
          "output_type": "stream",
          "text": [
            "197/197 [==============================] - 0s 1ms/step\n"
          ]
        },
        {
          "data": {
            "text/plain": [
              "array([[45.252632],\n",
              "       [45.252632],\n",
              "       [45.252632],\n",
              "       ...,\n",
              "       [45.252632],\n",
              "       [45.252632],\n",
              "       [45.252632]], dtype=float32)"
            ]
          },
          "execution_count": 1530,
          "metadata": {},
          "output_type": "execute_result"
        }
      ],
      "source": [
        "p_model.predict(X_test)"
      ]
    },
    {
      "cell_type": "code",
      "execution_count": 1531,
      "metadata": {
        "id": "BLqEiXPIs84b"
      },
      "outputs": [],
      "source": [
        "jsonfile=model.to_json()\n",
        "with open (\"model.json\",\"w\") as f:\n",
        "  f.write(jsonfile)\n",
        "\n",
        "model.save_weights(\"model.h5\")"
      ]
    },
    {
      "cell_type": "code",
      "execution_count": 1532,
      "metadata": {},
      "outputs": [
        {
          "data": {
            "text/plain": [
              "20762    32.0\n",
              "21484    41.0\n",
              "9865     58.0\n",
              "18947    24.0\n",
              "24667    21.0\n",
              "         ... \n",
              "5470     24.0\n",
              "1596     38.0\n",
              "18804    62.0\n",
              "13861    51.0\n",
              "11589    38.0\n",
              "Name: age, Length: 6294, dtype: float64"
            ]
          },
          "execution_count": 1532,
          "metadata": {},
          "output_type": "execute_result"
        }
      ],
      "source": [
        "y_test"
      ]
    },
    {
      "cell_type": "code",
      "execution_count": 1535,
      "metadata": {},
      "outputs": [],
      "source": [
        "import numpy\n",
        "a = [4.0 , 0 , 0 , 7 , 4]\n",
        "b = [0.0 , 9 , 0 , 5 , 4]\n",
        "a = numpy.array(a)"
      ]
    },
    {
      "cell_type": "code",
      "execution_count": 1536,
      "metadata": {},
      "outputs": [
        {
          "ename": "ValueError",
          "evalue": "in user code:\n\n    File \"c:\\Users\\User\\AppData\\Local\\Programs\\Python\\Python311\\Lib\\site-packages\\keras\\engine\\training.py\", line 2169, in predict_function  *\n        return step_function(self, iterator)\n    File \"c:\\Users\\User\\AppData\\Local\\Programs\\Python\\Python311\\Lib\\site-packages\\keras\\engine\\training.py\", line 2155, in step_function  **\n        outputs = model.distribute_strategy.run(run_step, args=(data,))\n    File \"c:\\Users\\User\\AppData\\Local\\Programs\\Python\\Python311\\Lib\\site-packages\\keras\\engine\\training.py\", line 2143, in run_step  **\n        outputs = model.predict_step(data)\n    File \"c:\\Users\\User\\AppData\\Local\\Programs\\Python\\Python311\\Lib\\site-packages\\keras\\engine\\training.py\", line 2111, in predict_step\n        return self(x, training=False)\n    File \"c:\\Users\\User\\AppData\\Local\\Programs\\Python\\Python311\\Lib\\site-packages\\keras\\utils\\traceback_utils.py\", line 70, in error_handler\n        raise e.with_traceback(filtered_tb) from None\n    File \"c:\\Users\\User\\AppData\\Local\\Programs\\Python\\Python311\\Lib\\site-packages\\keras\\engine\\input_spec.py\", line 253, in assert_input_compatibility\n        raise ValueError(\n\n    ValueError: Exception encountered when calling layer 'sequential_82' (type Sequential).\n    \n    Input 0 of layer \"dense_163\" is incompatible with the layer: expected min_ndim=2, found ndim=1. Full shape received: (None,)\n    \n    Call arguments received by layer 'sequential_82' (type Sequential):\n      • inputs=tf.Tensor(shape=(None,), dtype=float32)\n      • training=False\n      • mask=None\n",
          "output_type": "error",
          "traceback": [
            "\u001b[1;31m---------------------------------------------------------------------------\u001b[0m",
            "\u001b[1;31mValueError\u001b[0m                                Traceback (most recent call last)",
            "Cell \u001b[1;32mIn[1536], line 1\u001b[0m\n\u001b[1;32m----> 1\u001b[0m p_model\u001b[39m.\u001b[39;49mpredict(a)\n",
            "File \u001b[1;32mc:\\Users\\User\\AppData\\Local\\Programs\\Python\\Python311\\Lib\\site-packages\\keras\\utils\\traceback_utils.py:70\u001b[0m, in \u001b[0;36mfilter_traceback.<locals>.error_handler\u001b[1;34m(*args, **kwargs)\u001b[0m\n\u001b[0;32m     67\u001b[0m     filtered_tb \u001b[39m=\u001b[39m _process_traceback_frames(e\u001b[39m.\u001b[39m__traceback__)\n\u001b[0;32m     68\u001b[0m     \u001b[39m# To get the full stack trace, call:\u001b[39;00m\n\u001b[0;32m     69\u001b[0m     \u001b[39m# `tf.debugging.disable_traceback_filtering()`\u001b[39;00m\n\u001b[1;32m---> 70\u001b[0m     \u001b[39mraise\u001b[39;00m e\u001b[39m.\u001b[39mwith_traceback(filtered_tb) \u001b[39mfrom\u001b[39;00m \u001b[39mNone\u001b[39m\n\u001b[0;32m     71\u001b[0m \u001b[39mfinally\u001b[39;00m:\n\u001b[0;32m     72\u001b[0m     \u001b[39mdel\u001b[39;00m filtered_tb\n",
            "File \u001b[1;32m~\\AppData\\Local\\Temp\\__autograph_generated_fileg6h112ch.py:15\u001b[0m, in \u001b[0;36mouter_factory.<locals>.inner_factory.<locals>.tf__predict_function\u001b[1;34m(iterator)\u001b[0m\n\u001b[0;32m     13\u001b[0m \u001b[39mtry\u001b[39;00m:\n\u001b[0;32m     14\u001b[0m     do_return \u001b[39m=\u001b[39m \u001b[39mTrue\u001b[39;00m\n\u001b[1;32m---> 15\u001b[0m     retval_ \u001b[39m=\u001b[39m ag__\u001b[39m.\u001b[39mconverted_call(ag__\u001b[39m.\u001b[39mld(step_function), (ag__\u001b[39m.\u001b[39mld(\u001b[39mself\u001b[39m), ag__\u001b[39m.\u001b[39mld(iterator)), \u001b[39mNone\u001b[39;00m, fscope)\n\u001b[0;32m     16\u001b[0m \u001b[39mexcept\u001b[39;00m:\n\u001b[0;32m     17\u001b[0m     do_return \u001b[39m=\u001b[39m \u001b[39mFalse\u001b[39;00m\n",
            "\u001b[1;31mValueError\u001b[0m: in user code:\n\n    File \"c:\\Users\\User\\AppData\\Local\\Programs\\Python\\Python311\\Lib\\site-packages\\keras\\engine\\training.py\", line 2169, in predict_function  *\n        return step_function(self, iterator)\n    File \"c:\\Users\\User\\AppData\\Local\\Programs\\Python\\Python311\\Lib\\site-packages\\keras\\engine\\training.py\", line 2155, in step_function  **\n        outputs = model.distribute_strategy.run(run_step, args=(data,))\n    File \"c:\\Users\\User\\AppData\\Local\\Programs\\Python\\Python311\\Lib\\site-packages\\keras\\engine\\training.py\", line 2143, in run_step  **\n        outputs = model.predict_step(data)\n    File \"c:\\Users\\User\\AppData\\Local\\Programs\\Python\\Python311\\Lib\\site-packages\\keras\\engine\\training.py\", line 2111, in predict_step\n        return self(x, training=False)\n    File \"c:\\Users\\User\\AppData\\Local\\Programs\\Python\\Python311\\Lib\\site-packages\\keras\\utils\\traceback_utils.py\", line 70, in error_handler\n        raise e.with_traceback(filtered_tb) from None\n    File \"c:\\Users\\User\\AppData\\Local\\Programs\\Python\\Python311\\Lib\\site-packages\\keras\\engine\\input_spec.py\", line 253, in assert_input_compatibility\n        raise ValueError(\n\n    ValueError: Exception encountered when calling layer 'sequential_82' (type Sequential).\n    \n    Input 0 of layer \"dense_163\" is incompatible with the layer: expected min_ndim=2, found ndim=1. Full shape received: (None,)\n    \n    Call arguments received by layer 'sequential_82' (type Sequential):\n      • inputs=tf.Tensor(shape=(None,), dtype=float32)\n      • training=False\n      • mask=None\n"
          ]
        }
      ],
      "source": [
        "p_model.predict(a)"
      ]
    }
  ],
  "metadata": {
    "colab": {
      "provenance": []
    },
    "kernelspec": {
      "display_name": "Python 3",
      "name": "python3"
    },
    "language_info": {
      "codemirror_mode": {
        "name": "ipython",
        "version": 3
      },
      "file_extension": ".py",
      "mimetype": "text/x-python",
      "name": "python",
      "nbconvert_exporter": "python",
      "pygments_lexer": "ipython3",
      "version": "3.11.1"
    }
  },
  "nbformat": 4,
  "nbformat_minor": 0
}

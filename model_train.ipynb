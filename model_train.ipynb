{
  "cells": [
    {
      "cell_type": "code",
      "execution_count": 1384,
      "metadata": {
        "id": "__bqIbeRFofW"
      },
      "outputs": [],
      "source": [
        "import pandas as pd\n",
        "import io\n",
        "from sklearn.ensemble import RandomForestRegressor\n",
        "import numpy as np\n",
        "from sklearn.decomposition import PCA"
      ]
    },
    {
      "cell_type": "code",
      "execution_count": 1385,
      "metadata": {
        "colab": {
          "base_uri": "https://localhost:8080/"
        },
        "id": "2v5GshKzMDyH",
        "outputId": "2f2a6861-a445-4e9f-f90f-be80821ed742"
      },
      "outputs": [
        {
          "name": "stderr",
          "output_type": "stream",
          "text": [
            "C:\\Users\\User\\AppData\\Local\\Temp\\ipykernel_2196\\251105449.py:1: DtypeWarning: Columns (16,17,18,22,23,24,25,26,27,28,29,30,31,32,33,76) have mixed types. Specify dtype option on import or set low_memory=False.\n",
            "  all_data=pd.read_csv(\"Mortality_09_UP.data\",nrows=25175)\n"
          ]
        }
      ],
      "source": [
        "all_data=pd.read_csv(\"Mortality_09_UP.data\",nrows=25175)"
      ]
    },
    {
      "cell_type": "code",
      "execution_count": 1386,
      "metadata": {
        "colab": {
          "base_uri": "https://localhost:8080/",
          "height": 487
        },
        "id": "K_Z6quqsMJ5L",
        "outputId": "8d11dd0d-3a1d-42ff-b5b5-89a9c34ccc3d"
      },
      "outputs": [
        {
          "data": {
            "text/html": [
              "<div>\n",
              "<style scoped>\n",
              "    .dataframe tbody tr th:only-of-type {\n",
              "        vertical-align: middle;\n",
              "    }\n",
              "\n",
              "    .dataframe tbody tr th {\n",
              "        vertical-align: top;\n",
              "    }\n",
              "\n",
              "    .dataframe thead th {\n",
              "        text-align: right;\n",
              "    }\n",
              "</style>\n",
              "<table border=\"1\" class=\"dataframe\">\n",
              "  <thead>\n",
              "    <tr style=\"text-align: right;\">\n",
              "      <th></th>\n",
              "      <th>id</th>\n",
              "      <th>m_id</th>\n",
              "      <th>client_m_id</th>\n",
              "      <th>hl_id</th>\n",
              "      <th>house_no</th>\n",
              "      <th>house_hold_no</th>\n",
              "      <th>state</th>\n",
              "      <th>district</th>\n",
              "      <th>rural</th>\n",
              "      <th>stratum_code</th>\n",
              "      <th>...</th>\n",
              "      <th>householdstatus</th>\n",
              "      <th>isheadchanged</th>\n",
              "      <th>fidh</th>\n",
              "      <th>fidx</th>\n",
              "      <th>as</th>\n",
              "      <th>wt</th>\n",
              "      <th>x</th>\n",
              "      <th>schedule_id</th>\n",
              "      <th>year</th>\n",
              "      <th>v126</th>\n",
              "    </tr>\n",
              "  </thead>\n",
              "  <tbody>\n",
              "    <tr>\n",
              "      <th>0</th>\n",
              "      <td>712232</td>\n",
              "      <td>375.0</td>\n",
              "      <td>NaN</td>\n",
              "      <td>2944.0</td>\n",
              "      <td>63</td>\n",
              "      <td>3</td>\n",
              "      <td>9</td>\n",
              "      <td>58</td>\n",
              "      <td>1</td>\n",
              "      <td>1</td>\n",
              "      <td>...</td>\n",
              "      <td>NaN</td>\n",
              "      <td>NaN</td>\n",
              "      <td>NaN</td>\n",
              "      <td>2.944096e+10</td>\n",
              "      <td>-0.630351</td>\n",
              "      <td>68.37</td>\n",
              "      <td>NaN</td>\n",
              "      <td>4</td>\n",
              "      <td>1</td>\n",
              "      <td>NaN</td>\n",
              "    </tr>\n",
              "    <tr>\n",
              "      <th>1</th>\n",
              "      <td>712240</td>\n",
              "      <td>383.0</td>\n",
              "      <td>NaN</td>\n",
              "      <td>2997.0</td>\n",
              "      <td>28</td>\n",
              "      <td>1</td>\n",
              "      <td>9</td>\n",
              "      <td>58</td>\n",
              "      <td>1</td>\n",
              "      <td>1</td>\n",
              "      <td>...</td>\n",
              "      <td>NaN</td>\n",
              "      <td>NaN</td>\n",
              "      <td>NaN</td>\n",
              "      <td>2.997096e+10</td>\n",
              "      <td>-4.369212</td>\n",
              "      <td>68.37</td>\n",
              "      <td>NaN</td>\n",
              "      <td>4</td>\n",
              "      <td>1</td>\n",
              "      <td>NaN</td>\n",
              "    </tr>\n",
              "    <tr>\n",
              "      <th>2</th>\n",
              "      <td>109886</td>\n",
              "      <td>246.0</td>\n",
              "      <td>NaN</td>\n",
              "      <td>NaN</td>\n",
              "      <td>58</td>\n",
              "      <td>1</td>\n",
              "      <td>9</td>\n",
              "      <td>62</td>\n",
              "      <td>1</td>\n",
              "      <td>2</td>\n",
              "      <td>...</td>\n",
              "      <td>1.0</td>\n",
              "      <td>1.0</td>\n",
              "      <td>9.620340e+13</td>\n",
              "      <td>NaN</td>\n",
              "      <td>NaN</td>\n",
              "      <td>20.95</td>\n",
              "      <td>NaN</td>\n",
              "      <td>4</td>\n",
              "      <td>3</td>\n",
              "      <td>NaN</td>\n",
              "    </tr>\n",
              "    <tr>\n",
              "      <th>3</th>\n",
              "      <td>712216</td>\n",
              "      <td>359.0</td>\n",
              "      <td>NaN</td>\n",
              "      <td>2706.0</td>\n",
              "      <td>196</td>\n",
              "      <td>1</td>\n",
              "      <td>9</td>\n",
              "      <td>58</td>\n",
              "      <td>1</td>\n",
              "      <td>1</td>\n",
              "      <td>...</td>\n",
              "      <td>NaN</td>\n",
              "      <td>NaN</td>\n",
              "      <td>NaN</td>\n",
              "      <td>2.706096e+10</td>\n",
              "      <td>-2.996541</td>\n",
              "      <td>68.37</td>\n",
              "      <td>NaN</td>\n",
              "      <td>4</td>\n",
              "      <td>1</td>\n",
              "      <td>NaN</td>\n",
              "    </tr>\n",
              "    <tr>\n",
              "      <th>4</th>\n",
              "      <td>712224</td>\n",
              "      <td>367.0</td>\n",
              "      <td>NaN</td>\n",
              "      <td>2777.0</td>\n",
              "      <td>253</td>\n",
              "      <td>1</td>\n",
              "      <td>9</td>\n",
              "      <td>58</td>\n",
              "      <td>1</td>\n",
              "      <td>1</td>\n",
              "      <td>...</td>\n",
              "      <td>NaN</td>\n",
              "      <td>NaN</td>\n",
              "      <td>NaN</td>\n",
              "      <td>2.777096e+10</td>\n",
              "      <td>-3.951137</td>\n",
              "      <td>68.37</td>\n",
              "      <td>NaN</td>\n",
              "      <td>4</td>\n",
              "      <td>1</td>\n",
              "      <td>NaN</td>\n",
              "    </tr>\n",
              "    <tr>\n",
              "      <th>...</th>\n",
              "      <td>...</td>\n",
              "      <td>...</td>\n",
              "      <td>...</td>\n",
              "      <td>...</td>\n",
              "      <td>...</td>\n",
              "      <td>...</td>\n",
              "      <td>...</td>\n",
              "      <td>...</td>\n",
              "      <td>...</td>\n",
              "      <td>...</td>\n",
              "      <td>...</td>\n",
              "      <td>...</td>\n",
              "      <td>...</td>\n",
              "      <td>...</td>\n",
              "      <td>...</td>\n",
              "      <td>...</td>\n",
              "      <td>...</td>\n",
              "      <td>...</td>\n",
              "      <td>...</td>\n",
              "      <td>...</td>\n",
              "      <td>...</td>\n",
              "    </tr>\n",
              "    <tr>\n",
              "      <th>25170</th>\n",
              "      <td>643135</td>\n",
              "      <td>410.0</td>\n",
              "      <td>401.0</td>\n",
              "      <td>6366.0</td>\n",
              "      <td>244</td>\n",
              "      <td>1</td>\n",
              "      <td>9</td>\n",
              "      <td>3</td>\n",
              "      <td>1</td>\n",
              "      <td>2</td>\n",
              "      <td>...</td>\n",
              "      <td>NaN</td>\n",
              "      <td>NaN</td>\n",
              "      <td>NaN</td>\n",
              "      <td>6.366090e+10</td>\n",
              "      <td>5.052841</td>\n",
              "      <td>54.85</td>\n",
              "      <td>NaN</td>\n",
              "      <td>4</td>\n",
              "      <td>1</td>\n",
              "      <td>NaN</td>\n",
              "    </tr>\n",
              "    <tr>\n",
              "      <th>25171</th>\n",
              "      <td>643143</td>\n",
              "      <td>938.0</td>\n",
              "      <td>1009.0</td>\n",
              "      <td>6483.0</td>\n",
              "      <td>66</td>\n",
              "      <td>1</td>\n",
              "      <td>9</td>\n",
              "      <td>3</td>\n",
              "      <td>1</td>\n",
              "      <td>2</td>\n",
              "      <td>...</td>\n",
              "      <td>NaN</td>\n",
              "      <td>NaN</td>\n",
              "      <td>NaN</td>\n",
              "      <td>6.483090e+10</td>\n",
              "      <td>0.292205</td>\n",
              "      <td>54.85</td>\n",
              "      <td>NaN</td>\n",
              "      <td>4</td>\n",
              "      <td>1</td>\n",
              "      <td>NaN</td>\n",
              "    </tr>\n",
              "    <tr>\n",
              "      <th>25172</th>\n",
              "      <td>102148</td>\n",
              "      <td>38.0</td>\n",
              "      <td>NaN</td>\n",
              "      <td>NaN</td>\n",
              "      <td>56</td>\n",
              "      <td>1</td>\n",
              "      <td>9</td>\n",
              "      <td>61</td>\n",
              "      <td>2</td>\n",
              "      <td>0</td>\n",
              "      <td>...</td>\n",
              "      <td>1.0</td>\n",
              "      <td>2.0</td>\n",
              "      <td>9.610740e+13</td>\n",
              "      <td>NaN</td>\n",
              "      <td>NaN</td>\n",
              "      <td>54.00</td>\n",
              "      <td>NaN</td>\n",
              "      <td>4</td>\n",
              "      <td>3</td>\n",
              "      <td>NaN</td>\n",
              "    </tr>\n",
              "    <tr>\n",
              "      <th>25173</th>\n",
              "      <td>643119</td>\n",
              "      <td>394.0</td>\n",
              "      <td>385.0</td>\n",
              "      <td>6140.0</td>\n",
              "      <td>34</td>\n",
              "      <td>1</td>\n",
              "      <td>9</td>\n",
              "      <td>3</td>\n",
              "      <td>1</td>\n",
              "      <td>2</td>\n",
              "      <td>...</td>\n",
              "      <td>NaN</td>\n",
              "      <td>NaN</td>\n",
              "      <td>NaN</td>\n",
              "      <td>6.140090e+10</td>\n",
              "      <td>-2.376460</td>\n",
              "      <td>54.85</td>\n",
              "      <td>NaN</td>\n",
              "      <td>4</td>\n",
              "      <td>1</td>\n",
              "      <td>NaN</td>\n",
              "    </tr>\n",
              "    <tr>\n",
              "      <th>25174</th>\n",
              "      <td>643127</td>\n",
              "      <td>402.0</td>\n",
              "      <td>393.0</td>\n",
              "      <td>6229.0</td>\n",
              "      <td>122</td>\n",
              "      <td>1</td>\n",
              "      <td>9</td>\n",
              "      <td>3</td>\n",
              "      <td>1</td>\n",
              "      <td>2</td>\n",
              "      <td>...</td>\n",
              "      <td>NaN</td>\n",
              "      <td>NaN</td>\n",
              "      <td>NaN</td>\n",
              "      <td>6.229090e+10</td>\n",
              "      <td>-0.566020</td>\n",
              "      <td>54.85</td>\n",
              "      <td>NaN</td>\n",
              "      <td>4</td>\n",
              "      <td>1</td>\n",
              "      <td>NaN</td>\n",
              "    </tr>\n",
              "  </tbody>\n",
              "</table>\n",
              "<p>25175 rows × 122 columns</p>\n",
              "</div>"
            ],
            "text/plain": [
              "           id   m_id  client_m_id   hl_id  house_no  house_hold_no  state  \\\n",
              "0      712232  375.0          NaN  2944.0        63              3      9   \n",
              "1      712240  383.0          NaN  2997.0        28              1      9   \n",
              "2      109886  246.0          NaN     NaN        58              1      9   \n",
              "3      712216  359.0          NaN  2706.0       196              1      9   \n",
              "4      712224  367.0          NaN  2777.0       253              1      9   \n",
              "...       ...    ...          ...     ...       ...            ...    ...   \n",
              "25170  643135  410.0        401.0  6366.0       244              1      9   \n",
              "25171  643143  938.0       1009.0  6483.0        66              1      9   \n",
              "25172  102148   38.0          NaN     NaN        56              1      9   \n",
              "25173  643119  394.0        385.0  6140.0        34              1      9   \n",
              "25174  643127  402.0        393.0  6229.0       122              1      9   \n",
              "\n",
              "       district  rural  stratum_code  ...  householdstatus  isheadchanged  \\\n",
              "0            58      1             1  ...              NaN            NaN   \n",
              "1            58      1             1  ...              NaN            NaN   \n",
              "2            62      1             2  ...              1.0            1.0   \n",
              "3            58      1             1  ...              NaN            NaN   \n",
              "4            58      1             1  ...              NaN            NaN   \n",
              "...         ...    ...           ...  ...              ...            ...   \n",
              "25170         3      1             2  ...              NaN            NaN   \n",
              "25171         3      1             2  ...              NaN            NaN   \n",
              "25172        61      2             0  ...              1.0            2.0   \n",
              "25173         3      1             2  ...              NaN            NaN   \n",
              "25174         3      1             2  ...              NaN            NaN   \n",
              "\n",
              "               fidh          fidx        as     wt   x schedule_id year  v126  \n",
              "0               NaN  2.944096e+10 -0.630351  68.37 NaN           4    1   NaN  \n",
              "1               NaN  2.997096e+10 -4.369212  68.37 NaN           4    1   NaN  \n",
              "2      9.620340e+13           NaN       NaN  20.95 NaN           4    3   NaN  \n",
              "3               NaN  2.706096e+10 -2.996541  68.37 NaN           4    1   NaN  \n",
              "4               NaN  2.777096e+10 -3.951137  68.37 NaN           4    1   NaN  \n",
              "...             ...           ...       ...    ...  ..         ...  ...   ...  \n",
              "25170           NaN  6.366090e+10  5.052841  54.85 NaN           4    1   NaN  \n",
              "25171           NaN  6.483090e+10  0.292205  54.85 NaN           4    1   NaN  \n",
              "25172  9.610740e+13           NaN       NaN  54.00 NaN           4    3   NaN  \n",
              "25173           NaN  6.140090e+10 -2.376460  54.85 NaN           4    1   NaN  \n",
              "25174           NaN  6.229090e+10 -0.566020  54.85 NaN           4    1   NaN  \n",
              "\n",
              "[25175 rows x 122 columns]"
            ]
          },
          "execution_count": 1386,
          "metadata": {},
          "output_type": "execute_result"
        }
      ],
      "source": [
        "all_data"
      ]
    },
    {
      "cell_type": "code",
      "execution_count": 1387,
      "metadata": {
        "id": "2dRz699vY0bf"
      },
      "outputs": [],
      "source": [
        "columns = [\"age\",\"sex\", \"highest_qualification\", \"rural\", \"disability_status\", \"is_water_filter\", \"chew\", \"smoke\", \"alcohol\",\"treatment_source\"]\n",
        "death = all_data[columns].copy()"
      ]
    },
    {
      "cell_type": "code",
      "execution_count": 1388,
      "metadata": {
        "id": "gc4_n89QpesQ"
      },
      "outputs": [],
      "source": [
        "for column in columns:\n",
        "    death[column].fillna(death[column].mode()[0], inplace=True)\n"
      ]
    },
    {
      "cell_type": "code",
      "execution_count": 1389,
      "metadata": {},
      "outputs": [
        {
          "data": {
            "text/plain": [
              "Index(['age', 'sex', 'highest_qualification', 'rural', 'disability_status',\n",
              "       'is_water_filter', 'chew', 'smoke', 'alcohol', 'treatment_source'],\n",
              "      dtype='object')"
            ]
          },
          "execution_count": 1389,
          "metadata": {},
          "output_type": "execute_result"
        }
      ],
      "source": [
        "death.columns"
      ]
    },
    {
      "cell_type": "code",
      "execution_count": 1390,
      "metadata": {
        "colab": {
          "base_uri": "https://localhost:8080/"
        },
        "id": "WIKBYuxLpiqo",
        "outputId": "93155224-9637-4469-ee37-e2954e39c92e"
      },
      "outputs": [
        {
          "data": {
            "text/plain": [
              "age                      0\n",
              "sex                      0\n",
              "highest_qualification    0\n",
              "rural                    0\n",
              "disability_status        0\n",
              "is_water_filter          0\n",
              "chew                     0\n",
              "smoke                    0\n",
              "alcohol                  0\n",
              "treatment_source         0\n",
              "dtype: int64"
            ]
          },
          "execution_count": 1390,
          "metadata": {},
          "output_type": "execute_result"
        }
      ],
      "source": [
        "death.isnull().sum()"
      ]
    },
    {
      "cell_type": "code",
      "execution_count": 1391,
      "metadata": {
        "colab": {
          "base_uri": "https://localhost:8080/",
          "height": 487
        },
        "id": "CnpmYoLlGclT",
        "outputId": "a693a44f-c2c1-44bd-cbf0-0828cf3fd29d"
      },
      "outputs": [
        {
          "data": {
            "text/html": [
              "<div>\n",
              "<style scoped>\n",
              "    .dataframe tbody tr th:only-of-type {\n",
              "        vertical-align: middle;\n",
              "    }\n",
              "\n",
              "    .dataframe tbody tr th {\n",
              "        vertical-align: top;\n",
              "    }\n",
              "\n",
              "    .dataframe thead th {\n",
              "        text-align: right;\n",
              "    }\n",
              "</style>\n",
              "<table border=\"1\" class=\"dataframe\">\n",
              "  <thead>\n",
              "    <tr style=\"text-align: right;\">\n",
              "      <th></th>\n",
              "      <th>age</th>\n",
              "      <th>sex</th>\n",
              "      <th>highest_qualification</th>\n",
              "      <th>rural</th>\n",
              "      <th>disability_status</th>\n",
              "      <th>is_water_filter</th>\n",
              "      <th>chew</th>\n",
              "      <th>smoke</th>\n",
              "      <th>alcohol</th>\n",
              "      <th>treatment_source</th>\n",
              "    </tr>\n",
              "  </thead>\n",
              "  <tbody>\n",
              "    <tr>\n",
              "      <th>0</th>\n",
              "      <td>43.0</td>\n",
              "      <td>1.0</td>\n",
              "      <td>4.0</td>\n",
              "      <td>1</td>\n",
              "      <td>0.0</td>\n",
              "      <td>2.0</td>\n",
              "      <td>7.0</td>\n",
              "      <td>4.0</td>\n",
              "      <td>4.0</td>\n",
              "      <td>0.0</td>\n",
              "    </tr>\n",
              "    <tr>\n",
              "      <th>1</th>\n",
              "      <td>70.0</td>\n",
              "      <td>2.0</td>\n",
              "      <td>0.0</td>\n",
              "      <td>1</td>\n",
              "      <td>0.0</td>\n",
              "      <td>2.0</td>\n",
              "      <td>5.0</td>\n",
              "      <td>4.0</td>\n",
              "      <td>4.0</td>\n",
              "      <td>9.0</td>\n",
              "    </tr>\n",
              "    <tr>\n",
              "      <th>2</th>\n",
              "      <td>57.0</td>\n",
              "      <td>2.0</td>\n",
              "      <td>3.0</td>\n",
              "      <td>1</td>\n",
              "      <td>0.0</td>\n",
              "      <td>2.0</td>\n",
              "      <td>7.0</td>\n",
              "      <td>4.0</td>\n",
              "      <td>4.0</td>\n",
              "      <td>0.0</td>\n",
              "    </tr>\n",
              "    <tr>\n",
              "      <th>3</th>\n",
              "      <td>50.0</td>\n",
              "      <td>1.0</td>\n",
              "      <td>0.0</td>\n",
              "      <td>1</td>\n",
              "      <td>0.0</td>\n",
              "      <td>2.0</td>\n",
              "      <td>1.0</td>\n",
              "      <td>1.0</td>\n",
              "      <td>1.0</td>\n",
              "      <td>9.0</td>\n",
              "    </tr>\n",
              "    <tr>\n",
              "      <th>4</th>\n",
              "      <td>65.0</td>\n",
              "      <td>2.0</td>\n",
              "      <td>0.0</td>\n",
              "      <td>1</td>\n",
              "      <td>0.0</td>\n",
              "      <td>2.0</td>\n",
              "      <td>7.0</td>\n",
              "      <td>4.0</td>\n",
              "      <td>4.0</td>\n",
              "      <td>0.0</td>\n",
              "    </tr>\n",
              "    <tr>\n",
              "      <th>...</th>\n",
              "      <td>...</td>\n",
              "      <td>...</td>\n",
              "      <td>...</td>\n",
              "      <td>...</td>\n",
              "      <td>...</td>\n",
              "      <td>...</td>\n",
              "      <td>...</td>\n",
              "      <td>...</td>\n",
              "      <td>...</td>\n",
              "      <td>...</td>\n",
              "    </tr>\n",
              "    <tr>\n",
              "      <th>25170</th>\n",
              "      <td>38.0</td>\n",
              "      <td>1.0</td>\n",
              "      <td>4.0</td>\n",
              "      <td>1</td>\n",
              "      <td>0.0</td>\n",
              "      <td>2.0</td>\n",
              "      <td>3.0</td>\n",
              "      <td>4.0</td>\n",
              "      <td>4.0</td>\n",
              "      <td>9.0</td>\n",
              "    </tr>\n",
              "    <tr>\n",
              "      <th>25171</th>\n",
              "      <td>38.0</td>\n",
              "      <td>2.0</td>\n",
              "      <td>0.0</td>\n",
              "      <td>1</td>\n",
              "      <td>0.0</td>\n",
              "      <td>2.0</td>\n",
              "      <td>7.0</td>\n",
              "      <td>4.0</td>\n",
              "      <td>4.0</td>\n",
              "      <td>8.0</td>\n",
              "    </tr>\n",
              "    <tr>\n",
              "      <th>25172</th>\n",
              "      <td>42.0</td>\n",
              "      <td>1.0</td>\n",
              "      <td>0.0</td>\n",
              "      <td>2</td>\n",
              "      <td>0.0</td>\n",
              "      <td>2.0</td>\n",
              "      <td>1.0</td>\n",
              "      <td>1.0</td>\n",
              "      <td>4.0</td>\n",
              "      <td>6.0</td>\n",
              "    </tr>\n",
              "    <tr>\n",
              "      <th>25173</th>\n",
              "      <td>35.0</td>\n",
              "      <td>1.0</td>\n",
              "      <td>0.0</td>\n",
              "      <td>1</td>\n",
              "      <td>0.0</td>\n",
              "      <td>2.0</td>\n",
              "      <td>7.0</td>\n",
              "      <td>1.0</td>\n",
              "      <td>4.0</td>\n",
              "      <td>8.0</td>\n",
              "    </tr>\n",
              "    <tr>\n",
              "      <th>25174</th>\n",
              "      <td>60.0</td>\n",
              "      <td>2.0</td>\n",
              "      <td>0.0</td>\n",
              "      <td>1</td>\n",
              "      <td>0.0</td>\n",
              "      <td>2.0</td>\n",
              "      <td>7.0</td>\n",
              "      <td>4.0</td>\n",
              "      <td>4.0</td>\n",
              "      <td>8.0</td>\n",
              "    </tr>\n",
              "  </tbody>\n",
              "</table>\n",
              "<p>25175 rows × 10 columns</p>\n",
              "</div>"
            ],
            "text/plain": [
              "        age  sex  highest_qualification  rural  disability_status  \\\n",
              "0      43.0  1.0                    4.0      1                0.0   \n",
              "1      70.0  2.0                    0.0      1                0.0   \n",
              "2      57.0  2.0                    3.0      1                0.0   \n",
              "3      50.0  1.0                    0.0      1                0.0   \n",
              "4      65.0  2.0                    0.0      1                0.0   \n",
              "...     ...  ...                    ...    ...                ...   \n",
              "25170  38.0  1.0                    4.0      1                0.0   \n",
              "25171  38.0  2.0                    0.0      1                0.0   \n",
              "25172  42.0  1.0                    0.0      2                0.0   \n",
              "25173  35.0  1.0                    0.0      1                0.0   \n",
              "25174  60.0  2.0                    0.0      1                0.0   \n",
              "\n",
              "       is_water_filter  chew  smoke  alcohol  treatment_source  \n",
              "0                  2.0   7.0    4.0      4.0               0.0  \n",
              "1                  2.0   5.0    4.0      4.0               9.0  \n",
              "2                  2.0   7.0    4.0      4.0               0.0  \n",
              "3                  2.0   1.0    1.0      1.0               9.0  \n",
              "4                  2.0   7.0    4.0      4.0               0.0  \n",
              "...                ...   ...    ...      ...               ...  \n",
              "25170              2.0   3.0    4.0      4.0               9.0  \n",
              "25171              2.0   7.0    4.0      4.0               8.0  \n",
              "25172              2.0   1.0    1.0      4.0               6.0  \n",
              "25173              2.0   7.0    1.0      4.0               8.0  \n",
              "25174              2.0   7.0    4.0      4.0               8.0  \n",
              "\n",
              "[25175 rows x 10 columns]"
            ]
          },
          "execution_count": 1391,
          "metadata": {},
          "output_type": "execute_result"
        }
      ],
      "source": [
        "death"
      ]
    },
    {
      "cell_type": "code",
      "execution_count": 1392,
      "metadata": {
        "colab": {
          "base_uri": "https://localhost:8080/"
        },
        "id": "9KF8cBrpFtKG",
        "outputId": "4f84779a-a034-4ab7-839b-5023e5ca5a05"
      },
      "outputs": [
        {
          "data": {
            "text/plain": [
              "age                      float64\n",
              "sex                      float64\n",
              "highest_qualification    float64\n",
              "rural                      int64\n",
              "disability_status        float64\n",
              "is_water_filter          float64\n",
              "chew                     float64\n",
              "smoke                    float64\n",
              "alcohol                  float64\n",
              "treatment_source         float64\n",
              "dtype: object"
            ]
          },
          "execution_count": 1392,
          "metadata": {},
          "output_type": "execute_result"
        }
      ],
      "source": [
        "death.dtypes"
      ]
    },
    {
      "cell_type": "code",
      "execution_count": 1393,
      "metadata": {
        "id": "JWoVMu4kq_0k"
      },
      "outputs": [],
      "source": [
        "x=death.drop('age',axis=1)\n",
        "y=death['age']"
      ]
    },
    {
      "cell_type": "code",
      "execution_count": 1394,
      "metadata": {
        "colab": {
          "base_uri": "https://localhost:8080/"
        },
        "id": "DTBjdWv1rHKD",
        "outputId": "0d63eac2-55ab-4743-f20c-e33c2edd16bb"
      },
      "outputs": [
        {
          "data": {
            "text/plain": [
              "(25175, 9)"
            ]
          },
          "execution_count": 1394,
          "metadata": {},
          "output_type": "execute_result"
        }
      ],
      "source": [
        "x.shape"
      ]
    },
    {
      "cell_type": "code",
      "execution_count": 1395,
      "metadata": {
        "colab": {
          "base_uri": "https://localhost:8080/"
        },
        "id": "guIUGSszFwJt",
        "outputId": "782f8e98-c5af-4025-ff35-24f53d28e28a"
      },
      "outputs": [
        {
          "data": {
            "text/plain": [
              "sex                      float64\n",
              "highest_qualification    float64\n",
              "rural                      int64\n",
              "disability_status        float64\n",
              "is_water_filter          float64\n",
              "chew                     float64\n",
              "smoke                    float64\n",
              "alcohol                  float64\n",
              "treatment_source         float64\n",
              "dtype: object"
            ]
          },
          "execution_count": 1395,
          "metadata": {},
          "output_type": "execute_result"
        }
      ],
      "source": [
        "x.dtypes"
      ]
    },
    {
      "cell_type": "code",
      "execution_count": 1396,
      "metadata": {
        "colab": {
          "base_uri": "https://localhost:8080/"
        },
        "id": "YbDv1mqYrItn",
        "outputId": "7078b7ea-4bce-496f-9595-f03074b629c1"
      },
      "outputs": [
        {
          "data": {
            "text/plain": [
              "(25175,)"
            ]
          },
          "execution_count": 1396,
          "metadata": {},
          "output_type": "execute_result"
        }
      ],
      "source": [
        "y.shape"
      ]
    },
    {
      "cell_type": "code",
      "execution_count": 1397,
      "metadata": {
        "id": "luOCyZesrTTW"
      },
      "outputs": [],
      "source": [
        "#train-test split\n",
        "from sklearn.model_selection import train_test_split\n",
        "\n",
        "X_train, X_test,y_train, y_test = train_test_split(x,y ,random_state=104,test_size=0.25,shuffle=True)"
      ]
    },
    {
      "cell_type": "code",
      "execution_count": 1398,
      "metadata": {
        "colab": {
          "base_uri": "https://localhost:8080/"
        },
        "id": "f1U0H5Aqs6MW",
        "outputId": "171443b8-41de-4a90-d5d8-9e1c9df9ffc3"
      },
      "outputs": [
        {
          "data": {
            "text/plain": [
              "(18881, 9)"
            ]
          },
          "execution_count": 1398,
          "metadata": {},
          "output_type": "execute_result"
        }
      ],
      "source": [
        "X_train.shape"
      ]
    },
    {
      "cell_type": "code",
      "execution_count": 1399,
      "metadata": {
        "id": "ngu5xwrWplz1"
      },
      "outputs": [],
      "source": [
        "import tensorflow as tf\n"
      ]
    },
    {
      "cell_type": "code",
      "execution_count": 1400,
      "metadata": {
        "id": "rD5I9NQepwL-"
      },
      "outputs": [],
      "source": [
        "#Build model\n",
        "\n",
        "model=tf.keras.Sequential()"
      ]
    },
    {
      "cell_type": "code",
      "execution_count": 1401,
      "metadata": {
        "id": "sSRrS3iMqU8q"
      },
      "outputs": [],
      "source": [
        "# bias=tf.keras.initializers.HeNormal()\n",
        "\n",
        "# model.add(tf.keras.layers.Dense(10,kernel_initializer=\"he_normal\",use_bias=True,activation='sigmoid',bias_initializer=bias,input_shape=(9,)))\n",
        "# model.add(tf.keras.layers.Dense(20,kernel_initializer=\"he_normal\",use_bias=True,activation='softmax',bias_initializer=bias))\n",
        "# model.add(tf.keras.layers.Dense(1,kernel_initializer=\"he_normal\",use_bias=True,activation='leaky_relu',bias_initializer=bias,input_shape=(9,)))"
      ]
    },
    {
      "cell_type": "code",
      "execution_count": 1402,
      "metadata": {},
      "outputs": [],
      "source": [
        "# bias=tf.keras.initializers.HeNormal()\n",
        "\n",
        "# model.add(tf.keras.layers.Dense(10,kernel_initializer=\"he_normal\",use_bias=True,activation='sigmoid',bias_initializer=bias,input_shape=(9,)))\n",
        "# model.add(tf.keras.layers.Dense(20,kernel_initializer=\"he_normal\",use_bias=True,activation='softmax',bias_initializer=bias))\n",
        "# model.add(tf.keras.layers.Dense(1,kernel_initializer=\"he_normal\",use_bias=True,activation='sigmoid',bias_initializer=bias,input_shape=(9,)))"
      ]
    },
    {
      "cell_type": "code",
      "execution_count": 1403,
      "metadata": {},
      "outputs": [
        {
          "name": "stderr",
          "output_type": "stream",
          "text": [
            "c:\\Users\\User\\AppData\\Local\\Programs\\Python\\Python311\\Lib\\site-packages\\keras\\initializers\\initializers.py:120: UserWarning: The initializer HeNormal is unseeded and being called multiple times, which will return identical values each time (even if the initializer is unseeded). Please update your code to provide a seed to the initializer, or avoid using the same initalizer instance more than once.\n",
            "  warnings.warn(\n"
          ]
        }
      ],
      "source": [
        "import tensorflow as tf\n",
        "\n",
        "bias=tf.keras.initializers.HeNormal()\n",
        "\n",
        "model = tf.keras.Sequential([\n",
        "  tf.keras.layers.Dense(10, kernel_initializer=\"he_normal\", bias_initializer=bias, activation='sigmoid', input_shape=(9,)),\n",
        "  tf.keras.layers.Dense(20, kernel_initializer=\"he_normal\", bias_initializer=bias, activation='relu'),\n",
        "  tf.keras.layers.Dense(1, kernel_initializer=\"he_normal\", bias_initializer=bias, activation='swish', input_shape=(9,))\n",
        "])\n"
      ]
    },
    {
      "cell_type": "code",
      "execution_count": 1404,
      "metadata": {
        "colab": {
          "base_uri": "https://localhost:8080/"
        },
        "id": "vKsDJYLus_Ve",
        "outputId": "5b6acb09-3cc4-42c7-aabd-c07c3f60624d"
      },
      "outputs": [
        {
          "name": "stdout",
          "output_type": "stream",
          "text": [
            "Model: \"sequential_76\"\n",
            "_________________________________________________________________\n",
            " Layer (type)                Output Shape              Param #   \n",
            "=================================================================\n",
            " dense_154 (Dense)           (None, 10)                100       \n",
            "                                                                 \n",
            " dense_155 (Dense)           (None, 20)                220       \n",
            "                                                                 \n",
            " dense_156 (Dense)           (None, 1)                 21        \n",
            "                                                                 \n",
            "=================================================================\n",
            "Total params: 341\n",
            "Trainable params: 341\n",
            "Non-trainable params: 0\n",
            "_________________________________________________________________\n"
          ]
        }
      ],
      "source": [
        "model.summary()"
      ]
    },
    {
      "cell_type": "code",
      "execution_count": 1405,
      "metadata": {
        "id": "BHERl9jsuHoB"
      },
      "outputs": [],
      "source": [
        "# model.compile(optimizer=tf.keras.optimizers.Adam(0.1),loss=tf.keras.losses.MeanAbsoluteError(),metrics=[tf.keras.metrics.RootMeanSquaredError()])"
      ]
    },
    {
      "cell_type": "code",
      "execution_count": 1406,
      "metadata": {},
      "outputs": [],
      "source": [
        "model.compile(optimizer=tf.keras.optimizers.Adam(0.1),loss=tf.keras.losses.MeanAbsoluteError(),metrics=[tf.keras.metrics.RootMeanSquaredError() , 'accuracy'])"
      ]
    },
    {
      "cell_type": "code",
      "execution_count": 1407,
      "metadata": {},
      "outputs": [],
      "source": [
        "# from sklearn.feature_selection import SelectFromModel\n",
        "\n",
        "# sfm = SelectFromModel(model, threshold=0.1)\n",
        "# sfm.fit(X_train, y_train)\n",
        "\n",
        "# X_train_new = sfm.transform(X_train)\n",
        "# X_test_new = sfm.transform(X_test)"
      ]
    },
    {
      "cell_type": "code",
      "execution_count": 1408,
      "metadata": {},
      "outputs": [],
      "source": [
        "# import tensorflow as tf\n",
        "\n",
        "# bias=tf.keras.initializers.HeNormal()\n",
        "\n",
        "# modelNew = tf.keras.Sequential([\n",
        "#   tf.keras.layers.Dense(10, kernel_initializer=\"he_normal\", bias_initializer=bias, activation='sigmoid', input_shape=(9,)),\n",
        "#   tf.keras.layers.Dense(20, kernel_initializer=\"he_normal\", bias_initializer=bias, activation='relu'),\n",
        "#   tf.keras.layers.Dense(1, kernel_initializer=\"he_normal\", bias_initializer=bias, activation='swish', input_shape=(9,))\n",
        "# ])\n"
      ]
    },
    {
      "cell_type": "code",
      "execution_count": 1409,
      "metadata": {},
      "outputs": [],
      "source": [
        "# from sklearn.metrics import mean_squared_error\n",
        "\n",
        "# y_pred = model_new.predict(X_test_new)\n",
        "# mse = mean_squared_error(y_test, y_pred)\n",
        "# print(\"Mean Squared Error:\", mse)\n"
      ]
    },
    {
      "cell_type": "code",
      "execution_count": 1410,
      "metadata": {},
      "outputs": [],
      "source": [
        "# learning=modelNew.fit(X_train,y_train,epochs=20,batch_size=16,verbose=True)"
      ]
    },
    {
      "cell_type": "code",
      "execution_count": 1411,
      "metadata": {
        "colab": {
          "base_uri": "https://localhost:8080/"
        },
        "id": "71Wo-Psxvqju",
        "outputId": "ca262a6b-1b88-4c60-9b3a-24f3135af71b"
      },
      "outputs": [
        {
          "name": "stdout",
          "output_type": "stream",
          "text": [
            "Epoch 1/20\n",
            "1181/1181 [==============================] - 2s 1ms/step - loss: 12.7973 - root_mean_squared_error: 15.7310 - accuracy: 5.2963e-05\n",
            "Epoch 2/20\n",
            "1181/1181 [==============================] - 2s 1ms/step - loss: 12.6010 - root_mean_squared_error: 15.3433 - accuracy: 5.2963e-05\n",
            "Epoch 3/20\n",
            "1181/1181 [==============================] - 2s 1ms/step - loss: 12.4227 - root_mean_squared_error: 15.1228 - accuracy: 5.2963e-05\n",
            "Epoch 4/20\n",
            "1181/1181 [==============================] - 2s 1ms/step - loss: 12.4248 - root_mean_squared_error: 15.1133 - accuracy: 5.2963e-05\n",
            "Epoch 5/20\n",
            "1181/1181 [==============================] - 2s 1ms/step - loss: 12.3618 - root_mean_squared_error: 15.0477 - accuracy: 5.2963e-05\n",
            "Epoch 6/20\n",
            "1181/1181 [==============================] - 2s 1ms/step - loss: 12.1960 - root_mean_squared_error: 14.8501 - accuracy: 5.2963e-05\n",
            "Epoch 7/20\n",
            "1181/1181 [==============================] - 2s 1ms/step - loss: 12.2622 - root_mean_squared_error: 14.9445 - accuracy: 5.2963e-05\n",
            "Epoch 8/20\n",
            "1181/1181 [==============================] - 2s 1ms/step - loss: 12.3896 - root_mean_squared_error: 15.0663 - accuracy: 5.2963e-05\n",
            "Epoch 9/20\n",
            "1181/1181 [==============================] - 3s 2ms/step - loss: 12.4029 - root_mean_squared_error: 15.0722 - accuracy: 5.2963e-05\n",
            "Epoch 10/20\n",
            "1181/1181 [==============================] - 2s 2ms/step - loss: 12.3409 - root_mean_squared_error: 15.0188 - accuracy: 5.2963e-05\n",
            "Epoch 11/20\n",
            "1181/1181 [==============================] - 2s 1ms/step - loss: 12.1553 - root_mean_squared_error: 14.7860 - accuracy: 5.2963e-05\n",
            "Epoch 12/20\n",
            "1181/1181 [==============================] - 2s 2ms/step - loss: 12.1315 - root_mean_squared_error: 14.7896 - accuracy: 5.2963e-05\n",
            "Epoch 13/20\n",
            "1181/1181 [==============================] - 2s 2ms/step - loss: 12.2660 - root_mean_squared_error: 14.9160 - accuracy: 5.2963e-05\n",
            "Epoch 14/20\n",
            "1181/1181 [==============================] - 2s 1ms/step - loss: 12.2873 - root_mean_squared_error: 14.9130 - accuracy: 5.2963e-05\n",
            "Epoch 15/20\n",
            "1181/1181 [==============================] - 2s 2ms/step - loss: 12.2753 - root_mean_squared_error: 14.8993 - accuracy: 5.2963e-05\n",
            "Epoch 16/20\n",
            "1181/1181 [==============================] - 2s 2ms/step - loss: 12.2358 - root_mean_squared_error: 14.8550 - accuracy: 5.2963e-05\n",
            "Epoch 17/20\n",
            "1181/1181 [==============================] - 2s 2ms/step - loss: 12.2282 - root_mean_squared_error: 14.8372 - accuracy: 5.2963e-05\n",
            "Epoch 18/20\n",
            "1181/1181 [==============================] - 2s 2ms/step - loss: 12.2526 - root_mean_squared_error: 14.8607 - accuracy: 5.2963e-05\n",
            "Epoch 19/20\n",
            "1181/1181 [==============================] - 2s 2ms/step - loss: 12.2646 - root_mean_squared_error: 14.8547 - accuracy: 5.2963e-05\n",
            "Epoch 20/20\n",
            "1181/1181 [==============================] - 2s 2ms/step - loss: 12.2628 - root_mean_squared_error: 14.8665 - accuracy: 5.2963e-05\n"
          ]
        }
      ],
      "source": [
        "learning=model.fit(X_train,y_train,epochs=20,batch_size=16,verbose=True)"
      ]
    },
    {
      "cell_type": "code",
      "execution_count": 1412,
      "metadata": {
        "id": "QLLtn7gEyNIE"
      },
      "outputs": [],
      "source": [
        "import matplotlib.pyplot as plt"
      ]
    },
    {
      "cell_type": "code",
      "execution_count": 1413,
      "metadata": {
        "id": "hcyJPqaAwmXP"
      },
      "outputs": [],
      "source": [
        "def plot(learning):\n",
        "  plt.plot(learning.history['loss'])\n",
        "  plt.xlabel(\"epochs\")\n",
        "  plt.ylabel(\"Cost\")\n",
        "\n",
        "  plt.show()\n"
      ]
    },
    {
      "cell_type": "code",
      "execution_count": 1414,
      "metadata": {
        "colab": {
          "base_uri": "https://localhost:8080/",
          "height": 449
        },
        "id": "qXR14ENhyfIE",
        "outputId": "e3d3d94e-db7a-4469-a374-b57593c14997"
      },
      "outputs": [
        {
          "data": {
            "image/png": "[encoded data removed]",
            "text/plain": [
              "<Figure size 640x480 with 1 Axes>"
            ]
          },
          "metadata": {},
          "output_type": "display_data"
        }
      ],
      "source": [
        "plot(learning)"
      ]
    },
    {
      "cell_type": "code",
      "execution_count": 1415,
      "metadata": {
        "colab": {
          "base_uri": "https://localhost:8080/"
        },
        "id": "EX9x_DITjcsx",
        "outputId": "e79df952-a11f-4b22-fbc5-dcbc34aef2b4"
      },
      "outputs": [
        {
          "data": {
            "text/plain": [
              "[<tf.Variable 'dense_154/kernel:0' shape=(9, 10) dtype=float32, numpy=\n",
              " array([[  3.27516   ,   2.3514044 ,   1.3031745 ,   3.7919385 ,\n",
              "          -1.8620963 ,  -1.9916608 ,   5.846959  ,   5.479238  ,\n",
              "          -1.3359143 ,   3.233452  ],\n",
              "        [ -0.10055746,   1.0182989 ,   2.0166204 ,   0.6306058 ,\n",
              "          -4.00267   ,  -4.738261  , -33.927578  ,   1.2855581 ,\n",
              "           9.796499  ,   1.32781   ],\n",
              "        [  2.7613437 ,   2.757844  ,   1.8418496 ,   2.6342447 ,\n",
              "          -2.6879694 ,   0.7463182 ,  -5.0874176 ,   3.2095003 ,\n",
              "           0.95064586,   3.5819657 ],\n",
              "        [  2.963814  ,   2.7972019 ,   5.3614836 ,   1.4105132 ,\n",
              "          -1.1820303 ,  -8.168841  ,  35.578037  ,   3.6662316 ,\n",
              "           8.404678  ,   5.130933  ],\n",
              "        [  4.1333795 ,   1.6603607 ,   2.265358  ,   4.996158  ,\n",
              "          -3.4851887 ,  -4.041847  ,  -8.478519  ,   4.209988  ,\n",
              "           3.560222  ,   3.6055787 ],\n",
              "        [  1.5791516 ,   1.305279  ,   0.5164228 ,   0.25923318,\n",
              "          -4.0080314 ,  -0.93353087,   0.4035002 ,   0.76936823,\n",
              "           5.904118  ,   0.17764089],\n",
              "        [  1.3065987 ,   0.778615  ,   1.4354417 ,   0.81095093,\n",
              "          -2.9971566 ,  -4.05555   ,   1.0469744 ,   0.8904768 ,\n",
              "           4.729441  ,   1.6199327 ],\n",
              "        [  1.6684402 ,   1.2959026 ,   1.7028595 ,   0.84182936,\n",
              "          -3.9607747 ,  -1.6619382 ,   9.490349  ,   0.88140744,\n",
              "           6.9817224 ,   1.926577  ],\n",
              "        [  1.2861158 ,   0.6557359 ,   0.6301257 ,   1.097109  ,\n",
              "          -3.0905585 ,  -3.6911871 ,   1.6479793 ,   0.9516031 ,\n",
              "           3.3926315 ,   0.85703313]], dtype=float32)>,\n",
              " <tf.Variable 'dense_154/bias:0' shape=(10,) dtype=float32, numpy=\n",
              " array([ 2.7886593 ,  2.0312026 ,  1.2254279 ,  3.3174686 , -2.7660851 ,\n",
              "        -0.7638452 , -8.801766  ,  1.8451936 ,  0.93763113,  3.4899683 ],\n",
              "       dtype=float32)>,\n",
              " <tf.Variable 'dense_155/kernel:0' shape=(10, 20) dtype=float32, numpy=\n",
              " array([[-3.9946231e-01, -2.8048566e-01, -3.4042990e-01, -1.1279496e-01,\n",
              "         -5.3869796e-01,  4.3449268e-01,  2.6969087e-01,  6.5506679e-01,\n",
              "         -3.6081919e-01, -3.1570026e-01, -6.2450296e-01,  2.5010034e-02,\n",
              "         -3.4109325e+00,  3.5479195e-02,  8.3382094e-01, -1.0878015e+00,\n",
              "         -1.5569339e+00, -8.1541723e-01,  2.1224952e-01, -3.1987851e+00],\n",
              "        [-5.1375824e-01, -8.9345968e-01,  1.4133887e-01, -5.7476148e-02,\n",
              "         -8.6845689e-02, -6.0843581e-01, -7.3607826e-01, -2.3462696e-01,\n",
              "         -4.5874849e-01,  2.3768015e-01,  5.6222093e-01, -9.9299467e-01,\n",
              "         -3.0880327e+00, -6.5935373e-01, -3.6293936e-01, -8.1500542e-01,\n",
              "         -1.3998775e+00,  9.9962950e-02, -2.0240735e-01, -2.2470450e+00],\n",
              "        [-1.0814818e+00,  5.2549613e-01, -7.7165186e-01, -4.6873015e-01,\n",
              "          3.3722725e-02, -1.5562224e-01,  2.5522807e-01, -1.2152315e+00,\n",
              "         -4.5728952e-01, -5.8066046e-01, -1.9668761e-01, -7.0321751e-01,\n",
              "         -2.7533941e+00, -8.8183063e-01, -5.7299876e-01, -4.8267413e-02,\n",
              "         -2.1788359e+00, -2.3818730e-01, -9.3813628e-01, -2.5700917e+00],\n",
              "        [-6.1925316e-01, -1.2211747e-01, -5.3968406e-01, -3.1796834e-01,\n",
              "          8.0935997e-01, -6.4930207e-01, -9.4173515e-01, -3.9010626e-01,\n",
              "         -2.4414271e-01, -8.1851549e-04,  3.3667010e-01, -3.4595662e-01,\n",
              "         -3.5918174e+00, -6.4201349e-01,  2.3313685e-01, -8.7368387e-01,\n",
              "         -1.8792970e+00, -3.5781312e-01, -1.0202125e+00, -2.6310413e+00],\n",
              "        [-4.5793292e-01,  3.3727401e-01, -2.0487337e-01,  1.1930873e+00,\n",
              "          3.0141312e-01, -6.2429345e-01, -1.3934334e-01,  1.5698494e+00,\n",
              "         -5.5643994e-01, -5.9924430e-01, -1.9789258e-01, -1.4088451e+00,\n",
              "         -1.4225718e-01, -1.9828698e-01,  8.4669226e-01, -7.8929670e-02,\n",
              "          1.4728379e+00,  7.1166337e-01, -7.7870375e-01, -4.9756634e-01],\n",
              "        [-2.3137479e-01,  9.5468737e-02, -9.5685363e-01, -8.1648611e-02,\n",
              "          1.6614754e-02, -6.6690892e-01,  1.2578751e-01, -7.8269553e-01,\n",
              "         -3.1132868e-01, -7.2186232e-01, -5.5915624e-01, -1.3167055e+00,\n",
              "          9.1437258e-02, -2.0839930e-01, -1.0097837e-01,  3.6663002e-01,\n",
              "         -2.6311867e+00, -1.3982789e-01, -6.6284084e-01,  7.6498881e-02],\n",
              "        [-6.6936982e-01,  3.1776187e-01, -6.3904566e-01,  2.5046656e-01,\n",
              "         -5.4268532e-02, -4.8689756e-01,  4.6496543e-01,  1.0130043e+00,\n",
              "          4.4588931e-02, -1.4035829e+00, -4.9814543e-01, -1.1056490e+00,\n",
              "         -2.7667694e+00, -8.8305771e-01, -3.5396484e-01, -6.7196709e-01,\n",
              "          1.2162891e+01,  5.9965390e-01, -9.7723281e-01, -3.2539852e+00],\n",
              "        [-2.7545571e-01, -1.0746211e+00, -7.2204280e-01, -6.4784783e-01,\n",
              "          3.4058851e-01, -8.4268427e-01,  8.6637832e-02, -1.0104847e+00,\n",
              "          2.3305833e-01,  2.0384203e-01, -4.4509840e-01, -9.4857705e-01,\n",
              "         -3.0163069e+00,  2.0180126e-01,  1.5898632e-01, -9.9652308e-01,\n",
              "         -1.2930660e+00,  3.1120464e-01, -2.4139366e-01, -3.0195427e+00],\n",
              "        [-3.6589566e-01,  9.1607094e-01, -1.1796018e+00,  7.5254995e-01,\n",
              "          1.5202560e-01, -5.2452838e-01,  5.8985915e-02, -5.7089102e-01,\n",
              "         -3.4713471e-01, -4.8483901e-02, -7.3244482e-02, -4.3833271e-01,\n",
              "         -3.6460042e+00, -9.0413618e-01,  1.4006668e-01, -1.0323921e+00,\n",
              "         -1.4582717e+00,  2.2182745e-01, -3.3907267e-01, -2.8867998e+00],\n",
              "        [-1.2383692e+00,  1.6031407e-01, -5.2666116e-01, -5.6426620e-01,\n",
              "         -3.6079666e-01,  4.7797799e-01,  3.2280731e-01, -5.9991735e-01,\n",
              "         -7.5357753e-01,  2.2430412e-01, -2.6814333e-01, -1.0408620e+00,\n",
              "         -3.3839579e+00, -7.8659314e-01, -1.1703202e+00, -2.8190044e-01,\n",
              "         -2.4032378e+00, -8.9547807e-01, -4.2755032e-01, -2.1567433e+00]],\n",
              "       dtype=float32)>,\n",
              " <tf.Variable 'dense_155/bias:0' shape=(20,) dtype=float32, numpy=\n",
              " array([-0.6441535 ,  0.3277655 , -0.64055765,  0.31767175, -0.5441217 ,\n",
              "         0.26485613, -0.24696282, -0.6646493 ,  0.13957402,  0.08748437,\n",
              "         0.5088085 , -0.9649612 , -3.0733595 , -0.2975735 ,  0.5393396 ,\n",
              "        -0.4147681 , -1.573041  , -0.17975257, -0.7104655 , -2.4975705 ],\n",
              "       dtype=float32)>,\n",
              " <tf.Variable 'dense_156/kernel:0' shape=(20, 1) dtype=float32, numpy=\n",
              " array([[ 0.44768247],\n",
              "        [ 0.01009056],\n",
              "        [ 0.19340517],\n",
              "        [-0.09640545],\n",
              "        [-0.01766635],\n",
              "        [ 0.4317864 ],\n",
              "        [-0.36127234],\n",
              "        [ 0.31550547],\n",
              "        [-0.62897426],\n",
              "        [ 0.03401624],\n",
              "        [ 0.00882647],\n",
              "        [ 0.71636987],\n",
              "        [ 2.957407  ],\n",
              "        [ 0.14614388],\n",
              "        [ 0.01764485],\n",
              "        [-0.48059514],\n",
              "        [ 0.0038369 ],\n",
              "        [ 0.02935924],\n",
              "        [ 0.47370908],\n",
              "        [-2.9527209 ]], dtype=float32)>,\n",
              " <tf.Variable 'dense_156/bias:0' shape=(1,) dtype=float32, numpy=array([46.161526], dtype=float32)>]"
            ]
          },
          "execution_count": 1415,
          "metadata": {},
          "output_type": "execute_result"
        }
      ],
      "source": [
        "model.weights"
      ]
    },
    {
      "cell_type": "code",
      "execution_count": 1416,
      "metadata": {
        "colab": {
          "base_uri": "https://localhost:8080/"
        },
        "id": "pIIEs_lHme7t",
        "outputId": "2cccc6cd-90b9-41db-ef2b-ea26d931e79f"
      },
      "outputs": [
        {
          "data": {
            "text/plain": [
              "['model2.pkl']"
            ]
          },
          "execution_count": 1416,
          "metadata": {},
          "output_type": "execute_result"
        }
      ],
      "source": [
        "import joblib\n",
        "\n",
        "joblib.dump(model,\"model2.pkl\")"
      ]
    },
    {
      "cell_type": "code",
      "execution_count": 1417,
      "metadata": {
        "id": "t0HmeF6EsKWp"
      },
      "outputs": [],
      "source": [
        "#loading\n",
        "p_model=joblib.load(\"model2.pkl\")"
      ]
    },
    {
      "cell_type": "code",
      "execution_count": 1418,
      "metadata": {
        "colab": {
          "base_uri": "https://localhost:8080/"
        },
        "id": "3CzqSjGYsWFb",
        "outputId": "8fd0ba5d-16ce-4ee6-b1eb-4cefb238ee23"
      },
      "outputs": [
        {
          "name": "stdout",
          "output_type": "stream",
          "text": [
            "Model: \"sequential_76\"\n",
            "_________________________________________________________________\n",
            " Layer (type)                Output Shape              Param #   \n",
            "=================================================================\n",
            " dense_154 (Dense)           (None, 10)                100       \n",
            "                                                                 \n",
            " dense_155 (Dense)           (None, 20)                220       \n",
            "                                                                 \n",
            " dense_156 (Dense)           (None, 1)                 21        \n",
            "                                                                 \n",
            "=================================================================\n",
            "Total params: 341\n",
            "Trainable params: 341\n",
            "Non-trainable params: 0\n",
            "_________________________________________________________________\n"
          ]
        }
      ],
      "source": [
        "p_model.summary()"
      ]
    },
    {
      "cell_type": "code",
      "execution_count": 1419,
      "metadata": {
        "colab": {
          "base_uri": "https://localhost:8080/"
        },
        "id": "MjuHLl6esYkT",
        "outputId": "ead0ed5f-4e41-45e5-ad69-d4804055621c"
      },
      "outputs": [
        {
          "name": "stdout",
          "output_type": "stream",
          "text": [
            "197/197 [==============================] - 0s 1ms/step\n"
          ]
        },
        {
          "data": {
            "text/plain": [
              "array([[46.161526],\n",
              "       [46.161526],\n",
              "       [46.161526],\n",
              "       ...,\n",
              "       [46.161526],\n",
              "       [46.161526],\n",
              "       [46.161526]], dtype=float32)"
            ]
          },
          "execution_count": 1419,
          "metadata": {},
          "output_type": "execute_result"
        }
      ],
      "source": [
        "p_model.predict(X_test)"
      ]
    },
    {
      "cell_type": "code",
      "execution_count": 1420,
      "metadata": {
        "id": "BLqEiXPIs84b"
      },
      "outputs": [],
      "source": [
        "jsonfile=model.to_json()\n",
        "with open (\"model.json\",\"w\") as f:\n",
        "  f.write(jsonfile)\n",
        "\n",
        "model.save_weights(\"model.h5\")"
      ]
    },
    {
      "cell_type": "code",
      "execution_count": 1421,
      "metadata": {},
      "outputs": [
        {
          "data": {
            "text/plain": [
              "20762    32.0\n",
              "21484    41.0\n",
              "9865     58.0\n",
              "18947    24.0\n",
              "24667    21.0\n",
              "         ... \n",
              "5470     24.0\n",
              "1596     38.0\n",
              "18804    62.0\n",
              "13861    51.0\n",
              "11589    38.0\n",
              "Name: age, Length: 6294, dtype: float64"
            ]
          },
          "execution_count": 1421,
          "metadata": {},
          "output_type": "execute_result"
        }
      ],
      "source": [
        "y_test"
      ]
    }
  ],
  "metadata": {
    "colab": {
      "provenance": []
    },
    "kernelspec": {
      "display_name": "Python 3",
      "name": "python3"
    },
    "language_info": {
      "codemirror_mode": {
        "name": "ipython",
        "version": 3
      },
      "file_extension": ".py",
      "mimetype": "text/x-python",
      "name": "python",
      "nbconvert_exporter": "python",
      "pygments_lexer": "ipython3",
      "version": "3.11.1"
    }
  },
  "nbformat": 4,
  "nbformat_minor": 0
}
